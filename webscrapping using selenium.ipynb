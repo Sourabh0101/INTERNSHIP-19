{
 "cells": [
  {
   "cell_type": "code",
   "execution_count": 2,
   "metadata": {},
   "outputs": [],
   "source": [
    "# Importing libraires\n",
    "import selenium\n",
    "import pandas as pd\n",
    "from selenium import webdriver"
   ]
  },
  {
   "cell_type": "markdown",
   "metadata": {},
   "source": [
    "<h3> Q1: Write a python program to scrape data for “Data Analyst” Job position in “Bangalore” location. You have to scrape the job-title, job-location, company_name, experience_required. You have to scrape first 10 jobs data. </h3>"
   ]
  },
  {
   "cell_type": "code",
   "execution_count": 3,
   "metadata": {},
   "outputs": [],
   "source": [
    "#connecting to the web driver\n",
    "driver = webdriver.Chrome('chromedriver.exe')\n",
    "\n",
    "#get the url\n",
    "url = 'https://www.naukri.com/'\n",
    "driver.get(url)\n",
    "\n",
    "# sending input 'Data Analyst' in Job Title,Keyword,Company field\n",
    "searchjob = driver.find_element_by_xpath('//*[@id=\"qsb-keyword-sugg\"]')\n",
    "searchjob.send_keys('Data Analyst')\n",
    "\n",
    "# sending input 'Bangalore' in Location field\n",
    "search_location = driver.find_element_by_xpath('//*[@id=\"qsb-location-sugg\"]')\n",
    "search_location.send_keys('Bangalore')\n",
    "\n",
    "# Clicking on search button\n",
    "search_btn = driver.find_element_by_xpath('//*[@id=\"root\"]/div[3]/div[2]/section/div/form/div[3]/button')\n",
    "search_btn.click()"
   ]
  },
  {
   "cell_type": "code",
   "execution_count": 4,
   "metadata": {},
   "outputs": [
    {
     "name": "stdout",
     "output_type": "stream",
     "text": [
      "['Business Data Analyst - Google Data Studio & SQL', 'Business Data Analyst', 'Business Data Analyst', 'Executive Data Analyst', 'Senior Data Analyst', 'Data Analyst - I/II', 'Hiring For the role - DATA Analyst (Flipkart)', 'Hiring For the role - DATA Analyst (Flipkart)', 'Business Data Analyst - MIS & Reporting', 'Senior Data Analyst']\n"
     ]
    }
   ],
   "source": [
    "# Fetching the job titles\n",
    "job_title=driver.find_elements_by_xpath('//a[@class=\"title fw500 ellipsis\"]')\n",
    "Job_title=[]\n",
    "for j in job_title:\n",
    "    Job_title.append(j.text)\n",
    "print(Job_title[0:10])"
   ]
  },
  {
   "cell_type": "code",
   "execution_count": 5,
   "metadata": {},
   "outputs": [
    {
     "name": "stdout",
     "output_type": "stream",
     "text": [
      "['AVE-Promagne', 'Trigent Software', 'Trigent Software', 'Gokaldas Exports Ltd', 'Virtusa Consulting Services Pvt Ltd', 'Philips India Limited', 'Allegis Services India Pvt. Ltd.', 'Allegis Services India Pvt. Ltd.', 'INTERTRUST GROUP', 'Flipkart']\n"
     ]
    }
   ],
   "source": [
    "# Fetching company name\n",
    "Company_name=driver.find_elements_by_xpath('//div[@class=\"mt-7 companyInfo subheading lh16\"]/a[1]')\n",
    "company_name=[]\n",
    "for j in Company_name:\n",
    "    company_name.append(j.text)\n",
    "print(company_name[0:10])    "
   ]
  },
  {
   "cell_type": "code",
   "execution_count": 6,
   "metadata": {},
   "outputs": [
    {
     "name": "stdout",
     "output_type": "stream",
     "text": [
      "['Bangalore/Bengaluru', 'Bangalore/Bengaluru', 'Bangalore/Bengaluru', 'Bangalore/Bengaluru', 'Hyderabad/Secunderabad, Pune, Gurgaon/Gurugram, Chennai, Bangalore/Bengaluru, Mumbai (All Areas)', 'Bangalore/Bengaluru', 'Bangalore/Bengaluru(Bellandur)', 'Bangalore/Bengaluru(Bellandur)', 'Mumbai, Bangalore/Bengaluru', 'Bangalore/Bengaluru']\n"
     ]
    }
   ],
   "source": [
    "# Fetching job location\n",
    "Job_location =driver.find_elements_by_xpath('//li[@class=\"fleft grey-text br2 placeHolderLi location\"]/span')\n",
    "Job_Location=[]\n",
    "for j in Job_location:\n",
    "    if '(WFH during Covid)' in j.text:\n",
    "        pass \n",
    "    else:    \n",
    "        Job_Location.append(j.text)   \n",
    "print(Job_Location[0:10])    "
   ]
  },
  {
   "cell_type": "code",
   "execution_count": 7,
   "metadata": {},
   "outputs": [
    {
     "name": "stdout",
     "output_type": "stream",
     "text": [
      "['3-8 Yrs', '5-10 Yrs', '5-10 Yrs', '0-3 Yrs', '8-12 Yrs', '3-6 Yrs', '1-6 Yrs', '1-6 Yrs', '3-8 Yrs', '2-3 Yrs']\n"
     ]
    }
   ],
   "source": [
    "# Fetching experience required\n",
    "exp_req = driver.find_elements_by_xpath('//li[@class=\"fleft grey-text br2 placeHolderLi experience\"]/span')\n",
    "experience=[]\n",
    "for j in exp_req:\n",
    "    experience.append(j.text)\n",
    "print(experience[0:10])        "
   ]
  },
  {
   "cell_type": "code",
   "execution_count": 8,
   "metadata": {},
   "outputs": [],
   "source": [
    "# creating dataframe\n",
    "jobs=pd.DataFrame({})\n",
    "jobs['Title']=Job_title[0:10]\n",
    "jobs['Company']=company_name[0:10]\n",
    "jobs['Experience']=experience[0:10]\n",
    "jobs['Location']=Job_Location[0:10]   "
   ]
  },
  {
   "cell_type": "code",
   "execution_count": 9,
   "metadata": {},
   "outputs": [
    {
     "data": {
      "text/html": [
       "<div>\n",
       "<style scoped>\n",
       "    .dataframe tbody tr th:only-of-type {\n",
       "        vertical-align: middle;\n",
       "    }\n",
       "\n",
       "    .dataframe tbody tr th {\n",
       "        vertical-align: top;\n",
       "    }\n",
       "\n",
       "    .dataframe thead th {\n",
       "        text-align: right;\n",
       "    }\n",
       "</style>\n",
       "<table border=\"1\" class=\"dataframe\">\n",
       "  <thead>\n",
       "    <tr style=\"text-align: right;\">\n",
       "      <th></th>\n",
       "      <th>Title</th>\n",
       "      <th>Company</th>\n",
       "      <th>Experience</th>\n",
       "      <th>Location</th>\n",
       "    </tr>\n",
       "  </thead>\n",
       "  <tbody>\n",
       "    <tr>\n",
       "      <th>0</th>\n",
       "      <td>Business Data Analyst - Google Data Studio &amp; SQL</td>\n",
       "      <td>AVE-Promagne</td>\n",
       "      <td>3-8 Yrs</td>\n",
       "      <td>Bangalore/Bengaluru</td>\n",
       "    </tr>\n",
       "    <tr>\n",
       "      <th>1</th>\n",
       "      <td>Business Data Analyst</td>\n",
       "      <td>Trigent Software</td>\n",
       "      <td>5-10 Yrs</td>\n",
       "      <td>Bangalore/Bengaluru</td>\n",
       "    </tr>\n",
       "    <tr>\n",
       "      <th>2</th>\n",
       "      <td>Business Data Analyst</td>\n",
       "      <td>Trigent Software</td>\n",
       "      <td>5-10 Yrs</td>\n",
       "      <td>Bangalore/Bengaluru</td>\n",
       "    </tr>\n",
       "    <tr>\n",
       "      <th>3</th>\n",
       "      <td>Executive Data Analyst</td>\n",
       "      <td>Gokaldas Exports Ltd</td>\n",
       "      <td>0-3 Yrs</td>\n",
       "      <td>Bangalore/Bengaluru</td>\n",
       "    </tr>\n",
       "    <tr>\n",
       "      <th>4</th>\n",
       "      <td>Senior Data Analyst</td>\n",
       "      <td>Virtusa Consulting Services Pvt Ltd</td>\n",
       "      <td>8-12 Yrs</td>\n",
       "      <td>Hyderabad/Secunderabad, Pune, Gurgaon/Gurugram...</td>\n",
       "    </tr>\n",
       "    <tr>\n",
       "      <th>5</th>\n",
       "      <td>Data Analyst - I/II</td>\n",
       "      <td>Philips India Limited</td>\n",
       "      <td>3-6 Yrs</td>\n",
       "      <td>Bangalore/Bengaluru</td>\n",
       "    </tr>\n",
       "    <tr>\n",
       "      <th>6</th>\n",
       "      <td>Hiring For the role - DATA Analyst (Flipkart)</td>\n",
       "      <td>Allegis Services India Pvt. Ltd.</td>\n",
       "      <td>1-6 Yrs</td>\n",
       "      <td>Bangalore/Bengaluru(Bellandur)</td>\n",
       "    </tr>\n",
       "    <tr>\n",
       "      <th>7</th>\n",
       "      <td>Hiring For the role - DATA Analyst (Flipkart)</td>\n",
       "      <td>Allegis Services India Pvt. Ltd.</td>\n",
       "      <td>1-6 Yrs</td>\n",
       "      <td>Bangalore/Bengaluru(Bellandur)</td>\n",
       "    </tr>\n",
       "    <tr>\n",
       "      <th>8</th>\n",
       "      <td>Business Data Analyst - MIS &amp; Reporting</td>\n",
       "      <td>INTERTRUST GROUP</td>\n",
       "      <td>3-8 Yrs</td>\n",
       "      <td>Mumbai, Bangalore/Bengaluru</td>\n",
       "    </tr>\n",
       "    <tr>\n",
       "      <th>9</th>\n",
       "      <td>Senior Data Analyst</td>\n",
       "      <td>Flipkart</td>\n",
       "      <td>2-3 Yrs</td>\n",
       "      <td>Bangalore/Bengaluru</td>\n",
       "    </tr>\n",
       "  </tbody>\n",
       "</table>\n",
       "</div>"
      ],
      "text/plain": [
       "                                              Title  \\\n",
       "0  Business Data Analyst - Google Data Studio & SQL   \n",
       "1                             Business Data Analyst   \n",
       "2                             Business Data Analyst   \n",
       "3                            Executive Data Analyst   \n",
       "4                               Senior Data Analyst   \n",
       "5                               Data Analyst - I/II   \n",
       "6     Hiring For the role - DATA Analyst (Flipkart)   \n",
       "7     Hiring For the role - DATA Analyst (Flipkart)   \n",
       "8           Business Data Analyst - MIS & Reporting   \n",
       "9                               Senior Data Analyst   \n",
       "\n",
       "                               Company Experience  \\\n",
       "0                         AVE-Promagne    3-8 Yrs   \n",
       "1                     Trigent Software   5-10 Yrs   \n",
       "2                     Trigent Software   5-10 Yrs   \n",
       "3                 Gokaldas Exports Ltd    0-3 Yrs   \n",
       "4  Virtusa Consulting Services Pvt Ltd   8-12 Yrs   \n",
       "5                Philips India Limited    3-6 Yrs   \n",
       "6     Allegis Services India Pvt. Ltd.    1-6 Yrs   \n",
       "7     Allegis Services India Pvt. Ltd.    1-6 Yrs   \n",
       "8                     INTERTRUST GROUP    3-8 Yrs   \n",
       "9                             Flipkart    2-3 Yrs   \n",
       "\n",
       "                                            Location  \n",
       "0                                Bangalore/Bengaluru  \n",
       "1                                Bangalore/Bengaluru  \n",
       "2                                Bangalore/Bengaluru  \n",
       "3                                Bangalore/Bengaluru  \n",
       "4  Hyderabad/Secunderabad, Pune, Gurgaon/Gurugram...  \n",
       "5                                Bangalore/Bengaluru  \n",
       "6                     Bangalore/Bengaluru(Bellandur)  \n",
       "7                     Bangalore/Bengaluru(Bellandur)  \n",
       "8                        Mumbai, Bangalore/Bengaluru  \n",
       "9                                Bangalore/Bengaluru  "
      ]
     },
     "execution_count": 9,
     "metadata": {},
     "output_type": "execute_result"
    }
   ],
   "source": [
    "# Dataframe\n",
    "jobs"
   ]
  },
  {
   "cell_type": "markdown",
   "metadata": {},
   "source": [
    "<h3> Q2: Write a python program to scrape data for “Data Scientist” Job position in “Bangalore” location. You have to scrape the job-title, job-location, company_name, full job-description. You have to scrape first 10 jobs data. </h3>"
   ]
  },
  {
   "cell_type": "code",
   "execution_count": 40,
   "metadata": {},
   "outputs": [],
   "source": [
    "#connecting to the web driver\n",
    "driver = webdriver.Chrome('chromedriver.exe')\n",
    "\n",
    "#get the url\n",
    "url = 'https://www.naukri.com/'\n",
    "driver.get(url)"
   ]
  },
  {
   "cell_type": "code",
   "execution_count": 41,
   "metadata": {},
   "outputs": [],
   "source": [
    "# sending input 'Data Scientist' in Job Title,Keyword,Company field\n",
    "searchjob = driver.find_element_by_xpath('//*[@id=\"qsb-keyword-sugg\"]')\n",
    "searchjob.send_keys('Data Scientist')\n",
    "\n",
    "# sending input 'Bangalore' in Location field\n",
    "search_location = driver.find_element_by_xpath('//*[@id=\"qsb-location-sugg\"]')\n",
    "search_location.send_keys('Bangalore')\n",
    "\n",
    "# clicking on search button\n",
    "search_btn = driver.find_element_by_xpath('//*[@id=\"root\"]/div[3]/div[2]/section/div/form/div[3]/button')\n",
    "search_btn.click()"
   ]
  },
  {
   "cell_type": "code",
   "execution_count": 42,
   "metadata": {},
   "outputs": [],
   "source": [
    "# Fetchng urls\n",
    "Job_titles_url=driver.find_elements_by_xpath('//a[@class=\"title fw500 ellipsis\"]')\n",
    "urls_discriptions=[]\n",
    "for i in Job_titles_url:\n",
    "    urls_discriptions.append(i.get_attribute('href'))"
   ]
  },
  {
   "cell_type": "code",
   "execution_count": 50,
   "metadata": {},
   "outputs": [],
   "source": [
    "# Feteching job titles\n",
    "job_titles=[]\n",
    "for i in urls_discriptions:\n",
    "    driver.get(i)\n",
    "    try:\n",
    "        job_title= driver.find_element_by_xpath(\"//h1[@class='jd-header-title']\")\n",
    "        job_titles.append(job_title.text)\n",
    "    except:\n",
    "         pass\n"
   ]
  },
  {
   "cell_type": "code",
   "execution_count": 52,
   "metadata": {},
   "outputs": [],
   "source": [
    "#scrape data for top 10 company_names\n",
    "companies=[]\n",
    "for i in urls_discriptions:\n",
    "    driver.get(i)\n",
    "    try:\n",
    "        company_name= driver.find_element_by_xpath(\"//a[@class='pad-rt-8']\")\n",
    "        companies.append(company_name.text)\n",
    "    except:\n",
    "        pass"
   ]
  },
  {
   "cell_type": "code",
   "execution_count": 62,
   "metadata": {},
   "outputs": [],
   "source": [
    "#scrape data for top 10 company locations\n",
    "job_locations=[]\n",
    "for i in urls_discriptions:\n",
    "    driver.get(i)\n",
    "    try:\n",
    "        job_location= driver.find_element_by_xpath(\"//div[@class='loc']//a\")\n",
    "        job_locations.append(job_location.text)\n",
    "    except:\n",
    "        pass"
   ]
  },
  {
   "cell_type": "code",
   "execution_count": 64,
   "metadata": {},
   "outputs": [],
   "source": [
    "#scrape data for top 10 company descriptions\n",
    "job_descriptions=[]\n",
    "for i in urls_discriptions:\n",
    "    driver.get(i)\n",
    "    try:\n",
    "        job_description= driver.find_element_by_xpath(\"//div[@class='dang-inner-html']\")\n",
    "        job_descriptions.append(job_description.text)\n",
    "    except:\n",
    "        pass"
   ]
  },
  {
   "cell_type": "code",
   "execution_count": 66,
   "metadata": {},
   "outputs": [],
   "source": [
    "#creating a dataframe by importing pandas as pd\n",
    "jobs=pd.DataFrame({})\n",
    "jobs['Title']=job_titles[0:10]\n",
    "jobs['Location']=job_locations\n",
    "jobs['Company']=companies[0:10]\n",
    "jobs['Full job description']=job_descriptions[0:10]"
   ]
  },
  {
   "cell_type": "code",
   "execution_count": 67,
   "metadata": {},
   "outputs": [
    {
     "data": {
      "text/html": [
       "<div>\n",
       "<style scoped>\n",
       "    .dataframe tbody tr th:only-of-type {\n",
       "        vertical-align: middle;\n",
       "    }\n",
       "\n",
       "    .dataframe tbody tr th {\n",
       "        vertical-align: top;\n",
       "    }\n",
       "\n",
       "    .dataframe thead th {\n",
       "        text-align: right;\n",
       "    }\n",
       "</style>\n",
       "<table border=\"1\" class=\"dataframe\">\n",
       "  <thead>\n",
       "    <tr style=\"text-align: right;\">\n",
       "      <th></th>\n",
       "      <th>Title</th>\n",
       "      <th>Company</th>\n",
       "      <th>Full job description</th>\n",
       "    </tr>\n",
       "  </thead>\n",
       "  <tbody>\n",
       "    <tr>\n",
       "      <th>0</th>\n",
       "      <td>SENIOR DATA SCIENTIST</td>\n",
       "      <td>Happiest Minds Technologies Pvt.Ltd</td>\n",
       "      <td>Skills\\nRequired Skills: Data Science, Machi...</td>\n",
       "    </tr>\n",
       "    <tr>\n",
       "      <th>1</th>\n",
       "      <td>Data Scientist (Python &amp; SQL)</td>\n",
       "      <td>AVE-Promagne</td>\n",
       "      <td>Required Technical and Professional Expertise\\...</td>\n",
       "    </tr>\n",
       "    <tr>\n",
       "      <th>2</th>\n",
       "      <td>Freelance Data Scientist Project Based</td>\n",
       "      <td>Shikvix</td>\n",
       "      <td>Job description:\\n\\nSeeking senior data scient...</td>\n",
       "    </tr>\n",
       "    <tr>\n",
       "      <th>3</th>\n",
       "      <td>Data Scientist</td>\n",
       "      <td>VRIZE</td>\n",
       "      <td>Profile Overview\\nWe are looking for a Data Sc...</td>\n",
       "    </tr>\n",
       "    <tr>\n",
       "      <th>4</th>\n",
       "      <td>Data Scientist</td>\n",
       "      <td>ELPIS IT SOLUTIONS PVT LTD</td>\n",
       "      <td>Roles and Responsibilities\\nJob Description:\\n...</td>\n",
       "    </tr>\n",
       "    <tr>\n",
       "      <th>5</th>\n",
       "      <td>Data Scientist</td>\n",
       "      <td>ELPIS IT SOLUTIONS PVT LTD</td>\n",
       "      <td>Roles and Responsibilities\\nJob Description:\\n...</td>\n",
       "    </tr>\n",
       "    <tr>\n",
       "      <th>6</th>\n",
       "      <td>Senior Data Scientist - ML</td>\n",
       "      <td>SP Staffing Services Private Limited</td>\n",
       "      <td>Dear Candidate,\\n\\nWarm greetings from SP Staf...</td>\n",
       "    </tr>\n",
       "    <tr>\n",
       "      <th>7</th>\n",
       "      <td>Senior Data Scientist, Payments compliance</td>\n",
       "      <td>AIRBNB GLOBAL CAPABILITY CENTER PRIVATE LIMITED</td>\n",
       "      <td>The Challenge\\nBe a thought leader, partner wi...</td>\n",
       "    </tr>\n",
       "    <tr>\n",
       "      <th>8</th>\n",
       "      <td>Senior Data Scientist</td>\n",
       "      <td>ANT work</td>\n",
       "      <td>Purpose of the position\\nThe position should b...</td>\n",
       "    </tr>\n",
       "    <tr>\n",
       "      <th>9</th>\n",
       "      <td>Senior Data Scientist</td>\n",
       "      <td>Zycus Infotech Pvt Ltd</td>\n",
       "      <td>Main purpose of this role:\\nBe a part of the E...</td>\n",
       "    </tr>\n",
       "  </tbody>\n",
       "</table>\n",
       "</div>"
      ],
      "text/plain": [
       "                                        Title  \\\n",
       "0                       SENIOR DATA SCIENTIST   \n",
       "1               Data Scientist (Python & SQL)   \n",
       "2      Freelance Data Scientist Project Based   \n",
       "3                              Data Scientist   \n",
       "4                              Data Scientist   \n",
       "5                              Data Scientist   \n",
       "6                  Senior Data Scientist - ML   \n",
       "7  Senior Data Scientist, Payments compliance   \n",
       "8                       Senior Data Scientist   \n",
       "9                       Senior Data Scientist   \n",
       "\n",
       "                                           Company  \\\n",
       "0              Happiest Minds Technologies Pvt.Ltd   \n",
       "1                                     AVE-Promagne   \n",
       "2                                          Shikvix   \n",
       "3                                            VRIZE   \n",
       "4                       ELPIS IT SOLUTIONS PVT LTD   \n",
       "5                       ELPIS IT SOLUTIONS PVT LTD   \n",
       "6             SP Staffing Services Private Limited   \n",
       "7  AIRBNB GLOBAL CAPABILITY CENTER PRIVATE LIMITED   \n",
       "8                                         ANT work   \n",
       "9                           Zycus Infotech Pvt Ltd   \n",
       "\n",
       "                                Full job description  \n",
       "0    Skills\\nRequired Skills: Data Science, Machi...  \n",
       "1  Required Technical and Professional Expertise\\...  \n",
       "2  Job description:\\n\\nSeeking senior data scient...  \n",
       "3  Profile Overview\\nWe are looking for a Data Sc...  \n",
       "4  Roles and Responsibilities\\nJob Description:\\n...  \n",
       "5  Roles and Responsibilities\\nJob Description:\\n...  \n",
       "6  Dear Candidate,\\n\\nWarm greetings from SP Staf...  \n",
       "7  The Challenge\\nBe a thought leader, partner wi...  \n",
       "8  Purpose of the position\\nThe position should b...  \n",
       "9  Main purpose of this role:\\nBe a part of the E...  "
      ]
     },
     "execution_count": 67,
     "metadata": {},
     "output_type": "execute_result"
    }
   ],
   "source": [
    "jobs"
   ]
  },
  {
   "cell_type": "markdown",
   "metadata": {},
   "source": [
    "<h3 >Q3: In this question you have to scrape data using the filters available on the webpage as shown below:</h3>"
   ]
  },
  {
   "cell_type": "code",
   "execution_count": 75,
   "metadata": {},
   "outputs": [],
   "source": [
    "#connecting to the web driver\n",
    "driver = webdriver.Chrome('chromedriver.exe')\n",
    "\n",
    "#get the url\n",
    "url = 'https://www.naukri.com/'\n",
    "driver.get(url)"
   ]
  },
  {
   "cell_type": "code",
   "execution_count": 76,
   "metadata": {},
   "outputs": [],
   "source": [
    "# sending input 'Data Scientist' in Job Title,Keyword,Company field\n",
    "search_job = driver.find_element_by_xpath('//*[@id=\"qsb-keyword-sugg\"]')\n",
    "search_job.send_keys('Data Scientist')\n"
   ]
  },
  {
   "cell_type": "code",
   "execution_count": 77,
   "metadata": {},
   "outputs": [],
   "source": [
    "# clicking on search button\n",
    "search_btn = driver.find_element_by_xpath('//*[@id=\"root\"]/div[3]/div[2]/section/div/form/div[3]/button')\n",
    "search_btn.click()"
   ]
  },
  {
   "cell_type": "code",
   "execution_count": 78,
   "metadata": {},
   "outputs": [],
   "source": [
    "# clicking on location filter check box\n",
    "Location_filter =driver.find_element_by_xpath('//*[@id=\"root\"]/div[3]/div[2]/section[1]/div[2]/div[3]/div[2]/div[3]/label/i')\n",
    "Location_filter.click()\n"
   ]
  },
  {
   "cell_type": "code",
   "execution_count": 79,
   "metadata": {},
   "outputs": [],
   "source": [
    "# clicking on salary filter check box\n",
    "salary_filter = driver.find_element_by_xpath('//*[@id=\"root\"]/div[3]/div[2]/section[1]/div[2]/div[4]/div[2]/div[2]/label/i')\n",
    "salary_filter.click()"
   ]
  },
  {
   "cell_type": "code",
   "execution_count": 80,
   "metadata": {},
   "outputs": [],
   "source": [
    "#scraping top 10 job titles\n",
    "job_title= driver.find_elements_by_xpath(\"//a[@class='title fw500 ellipsis']\")\n",
    "job_titles=[]\n",
    "for i in job_title:\n",
    "    job_titles.append(i.text)"
   ]
  },
  {
   "cell_type": "code",
   "execution_count": 81,
   "metadata": {},
   "outputs": [],
   "source": [
    "#scraping top 10 job company location\n",
    "job_location= driver.find_elements_by_xpath(\"//li[@class='fleft grey-text br2 placeHolderLi location']//span\")\n",
    "job_locations=[]\n",
    "for i in job_location:\n",
    "    job_locations.append(i.text)"
   ]
  },
  {
   "cell_type": "code",
   "execution_count": 82,
   "metadata": {},
   "outputs": [],
   "source": [
    "#scraping top 10 company names\n",
    "company_name=driver.find_elements_by_xpath(\"//a[@class='subTitle ellipsis fleft']\")\n",
    "company_names=[]\n",
    "for i in company_name:\n",
    "    company_names.append(i.text)"
   ]
  },
  {
   "cell_type": "code",
   "execution_count": 83,
   "metadata": {},
   "outputs": [],
   "source": [
    "#scraping top 10 experience requirement in the companies\n",
    "experience_reqired=driver.find_elements_by_xpath(\"//li[@class='fleft grey-text br2 placeHolderLi experience']//span\")\n",
    "experience=[]\n",
    "for i in experience_reqired:\n",
    "    experience.append(i.text)"
   ]
  },
  {
   "cell_type": "code",
   "execution_count": 84,
   "metadata": {},
   "outputs": [],
   "source": [
    "#creating a dataframe by importing pandas as pd\n",
    "jobs=pd.DataFrame({})\n",
    "jobs['Title']=job_titles[0:10]\n",
    "jobs['Location']=job_locations[0:10]\n",
    "jobs['Company']=company_names[0:10]\n",
    "jobs['Experience']=experience[0:10]"
   ]
  },
  {
   "cell_type": "code",
   "execution_count": 85,
   "metadata": {},
   "outputs": [
    {
     "data": {
      "text/html": [
       "<div>\n",
       "<style scoped>\n",
       "    .dataframe tbody tr th:only-of-type {\n",
       "        vertical-align: middle;\n",
       "    }\n",
       "\n",
       "    .dataframe tbody tr th {\n",
       "        vertical-align: top;\n",
       "    }\n",
       "\n",
       "    .dataframe thead th {\n",
       "        text-align: right;\n",
       "    }\n",
       "</style>\n",
       "<table border=\"1\" class=\"dataframe\">\n",
       "  <thead>\n",
       "    <tr style=\"text-align: right;\">\n",
       "      <th></th>\n",
       "      <th>Title</th>\n",
       "      <th>Location</th>\n",
       "      <th>Company</th>\n",
       "      <th>Experience</th>\n",
       "    </tr>\n",
       "  </thead>\n",
       "  <tbody>\n",
       "    <tr>\n",
       "      <th>0</th>\n",
       "      <td>Data Analyst/Data Scientist</td>\n",
       "      <td>Bangalore/Bengaluru, Delhi / NCR, Mumbai (All ...</td>\n",
       "      <td>Skillenable Fintech Private Limited</td>\n",
       "      <td>2-5 Yrs</td>\n",
       "    </tr>\n",
       "    <tr>\n",
       "      <th>1</th>\n",
       "      <td>Only Fresher / Data Scientist / Data Analyst /...</td>\n",
       "      <td>Noida, Gurgaon/Gurugram, Delhi / NCR</td>\n",
       "      <td>GABA Consultancy services</td>\n",
       "      <td>0-0 Yrs</td>\n",
       "    </tr>\n",
       "    <tr>\n",
       "      <th>2</th>\n",
       "      <td>Data Scientist</td>\n",
       "      <td>Gurgaon/Gurugram</td>\n",
       "      <td>PROCESS NINE TECHNOLOGIES PVT.LTD.</td>\n",
       "      <td>1-3 Yrs</td>\n",
       "    </tr>\n",
       "    <tr>\n",
       "      <th>3</th>\n",
       "      <td>Data Scientist/ Machine Learning Engineer</td>\n",
       "      <td>(WFH during Covid)</td>\n",
       "      <td>Creative Hands HR Consultancy</td>\n",
       "      <td>0-0 Yrs</td>\n",
       "    </tr>\n",
       "    <tr>\n",
       "      <th>4</th>\n",
       "      <td>Data Scientist / Data Analyst / Business Analy...</td>\n",
       "      <td>Mohali/SAS Nagar, Hyderabad/Secunderabad, Ahme...</td>\n",
       "      <td>GABA Consultancy services</td>\n",
       "      <td>0-0 Yrs</td>\n",
       "    </tr>\n",
       "    <tr>\n",
       "      <th>5</th>\n",
       "      <td>Data Scientist / Data Analyst</td>\n",
       "      <td>Noida, New Delhi, Gurgaon/Gurugram</td>\n",
       "      <td>CARS24</td>\n",
       "      <td>1-5 Yrs</td>\n",
       "    </tr>\n",
       "    <tr>\n",
       "      <th>6</th>\n",
       "      <td>Immediate Openings For Data Scientist For Wipr...</td>\n",
       "      <td>Gurgaon/Gurugram</td>\n",
       "      <td>IDESLABS PRIVATE LIMITED</td>\n",
       "      <td>5-10 Yrs</td>\n",
       "    </tr>\n",
       "    <tr>\n",
       "      <th>7</th>\n",
       "      <td>Data Scientist - WFH - MIND Infotech</td>\n",
       "      <td>Gurgaon/Gurugram</td>\n",
       "      <td>MOTHERSONSUMI INFOTECH &amp; DESIGNS LIMITED</td>\n",
       "      <td>3-7 Yrs</td>\n",
       "    </tr>\n",
       "    <tr>\n",
       "      <th>8</th>\n",
       "      <td>Data Scientist</td>\n",
       "      <td>Pune, Chennai, Bangalore/Bengaluru, Delhi / NC...</td>\n",
       "      <td>Kusum Healthcare Pvt. Ltd.</td>\n",
       "      <td>4-6 Yrs</td>\n",
       "    </tr>\n",
       "    <tr>\n",
       "      <th>9</th>\n",
       "      <td>Data Scientist</td>\n",
       "      <td>Delhi / NCR(Okhla)</td>\n",
       "      <td>R Systems International Ltd.</td>\n",
       "      <td>3-6 Yrs</td>\n",
       "    </tr>\n",
       "  </tbody>\n",
       "</table>\n",
       "</div>"
      ],
      "text/plain": [
       "                                               Title  \\\n",
       "0                        Data Analyst/Data Scientist   \n",
       "1  Only Fresher / Data Scientist / Data Analyst /...   \n",
       "2                                     Data Scientist   \n",
       "3          Data Scientist/ Machine Learning Engineer   \n",
       "4  Data Scientist / Data Analyst / Business Analy...   \n",
       "5                      Data Scientist / Data Analyst   \n",
       "6  Immediate Openings For Data Scientist For Wipr...   \n",
       "7               Data Scientist - WFH - MIND Infotech   \n",
       "8                                     Data Scientist   \n",
       "9                                     Data Scientist   \n",
       "\n",
       "                                            Location  \\\n",
       "0  Bangalore/Bengaluru, Delhi / NCR, Mumbai (All ...   \n",
       "1               Noida, Gurgaon/Gurugram, Delhi / NCR   \n",
       "2                                   Gurgaon/Gurugram   \n",
       "3                                 (WFH during Covid)   \n",
       "4  Mohali/SAS Nagar, Hyderabad/Secunderabad, Ahme...   \n",
       "5                 Noida, New Delhi, Gurgaon/Gurugram   \n",
       "6                                   Gurgaon/Gurugram   \n",
       "7                                   Gurgaon/Gurugram   \n",
       "8  Pune, Chennai, Bangalore/Bengaluru, Delhi / NC...   \n",
       "9                                 Delhi / NCR(Okhla)   \n",
       "\n",
       "                                    Company Experience  \n",
       "0       Skillenable Fintech Private Limited    2-5 Yrs  \n",
       "1                 GABA Consultancy services    0-0 Yrs  \n",
       "2        PROCESS NINE TECHNOLOGIES PVT.LTD.    1-3 Yrs  \n",
       "3             Creative Hands HR Consultancy    0-0 Yrs  \n",
       "4                 GABA Consultancy services    0-0 Yrs  \n",
       "5                                    CARS24    1-5 Yrs  \n",
       "6                  IDESLABS PRIVATE LIMITED   5-10 Yrs  \n",
       "7  MOTHERSONSUMI INFOTECH & DESIGNS LIMITED    3-7 Yrs  \n",
       "8                Kusum Healthcare Pvt. Ltd.    4-6 Yrs  \n",
       "9              R Systems International Ltd.    3-6 Yrs  "
      ]
     },
     "execution_count": 85,
     "metadata": {},
     "output_type": "execute_result"
    }
   ],
   "source": [
    "# Dataframe\n",
    "jobs"
   ]
  },
  {
   "cell_type": "markdown",
   "metadata": {},
   "source": [
    "<h3>Q4: Write a python program to scrape data for first 10 job results for Data scientist Designation in Noida location. You have to scrape company_name, No. of days ago when job was posted, Rating of the company. </h3>"
   ]
  },
  {
   "cell_type": "code",
   "execution_count": 88,
   "metadata": {},
   "outputs": [],
   "source": [
    "#connecting to the web driver\n",
    "driver = webdriver.Chrome(\"Chromedriver.exe\")\n",
    "\n",
    "#get the url\n",
    "url = \"https://www.glassdoor.co.in/member/home/index.htm\"\n",
    "driver.get(url)"
   ]
  },
  {
   "cell_type": "code",
   "execution_count": 89,
   "metadata": {},
   "outputs": [],
   "source": [
    "signup=driver.find_element_by_xpath('//input[@id=\"userEmail\"]')\n",
    "signup.send_keys('sourabhjhod0101@gmail.com')\n",
    "\n",
    "signuppass=driver.find_element_by_xpath('//input[@id=\"userPassword\"]')\n",
    "signuppass.send_keys('Jhod@1234')\n",
    "\n",
    "signin = driver.find_element_by_xpath('//button[@class=\"gd-ui-button minWidthBtn css-8i7bc2\"]')\n",
    "signin.click()"
   ]
  },
  {
   "cell_type": "code",
   "execution_count": 90,
   "metadata": {},
   "outputs": [],
   "source": [
    "# code to write Data Scientist on skills search box\n",
    "search_job = driver.find_element_by_xpath('//input[@id=\"sc.keyword\"]')\n",
    "search_job.send_keys(\"Data Scientist\")"
   ]
  },
  {
   "cell_type": "code",
   "execution_count": 91,
   "metadata": {},
   "outputs": [],
   "source": [
    "#writing Noida in the location field\n",
    "search_loc=driver.find_element_by_xpath(\"//input[@id='sc.location']\")\n",
    "search_loc.send_keys(\"Noida\")"
   ]
  },
  {
   "cell_type": "code",
   "execution_count": 92,
   "metadata": {},
   "outputs": [],
   "source": [
    "# code to click on the search button\n",
    "search_btn = driver.find_element_by_xpath('//button[@class=\"gd-ui-button ml-std col-auto search__SearchStyles__newSearchButton css-1dqvyh7\"]')\n",
    "search_btn.click()"
   ]
  },
  {
   "cell_type": "code",
   "execution_count": 93,
   "metadata": {},
   "outputs": [
    {
     "data": {
      "text/html": [
       "<div>\n",
       "<style scoped>\n",
       "    .dataframe tbody tr th:only-of-type {\n",
       "        vertical-align: middle;\n",
       "    }\n",
       "\n",
       "    .dataframe tbody tr th {\n",
       "        vertical-align: top;\n",
       "    }\n",
       "\n",
       "    .dataframe thead th {\n",
       "        text-align: right;\n",
       "    }\n",
       "</style>\n",
       "<table border=\"1\" class=\"dataframe\">\n",
       "  <thead>\n",
       "    <tr style=\"text-align: right;\">\n",
       "      <th></th>\n",
       "      <th>Company Name</th>\n",
       "      <th>Job posted duration</th>\n",
       "      <th>Rating</th>\n",
       "    </tr>\n",
       "  </thead>\n",
       "  <tbody>\n",
       "    <tr>\n",
       "      <th>0</th>\n",
       "      <td>Associate Data Scientist</td>\n",
       "      <td>30d+</td>\n",
       "      <td>3.6</td>\n",
       "    </tr>\n",
       "    <tr>\n",
       "      <th>1</th>\n",
       "      <td>Data Scientist</td>\n",
       "      <td>13d</td>\n",
       "      <td>4.5</td>\n",
       "    </tr>\n",
       "    <tr>\n",
       "      <th>2</th>\n",
       "      <td>Data Scientist</td>\n",
       "      <td>1d</td>\n",
       "      <td>3.3</td>\n",
       "    </tr>\n",
       "    <tr>\n",
       "      <th>3</th>\n",
       "      <td>Data Scientist</td>\n",
       "      <td>13d</td>\n",
       "      <td>4.2</td>\n",
       "    </tr>\n",
       "    <tr>\n",
       "      <th>4</th>\n",
       "      <td>Data Science Training Head-Full Time</td>\n",
       "      <td>30d+</td>\n",
       "      <td>3.8</td>\n",
       "    </tr>\n",
       "    <tr>\n",
       "      <th>5</th>\n",
       "      <td>Data Scientist</td>\n",
       "      <td>15d</td>\n",
       "      <td>3.8</td>\n",
       "    </tr>\n",
       "    <tr>\n",
       "      <th>6</th>\n",
       "      <td>Data Scientist</td>\n",
       "      <td>9d</td>\n",
       "      <td>4.0</td>\n",
       "    </tr>\n",
       "    <tr>\n",
       "      <th>7</th>\n",
       "      <td>Data Science Consultant</td>\n",
       "      <td>10d</td>\n",
       "      <td>3.4</td>\n",
       "    </tr>\n",
       "    <tr>\n",
       "      <th>8</th>\n",
       "      <td>Data Scientist</td>\n",
       "      <td>30d+</td>\n",
       "      <td>3.8</td>\n",
       "    </tr>\n",
       "    <tr>\n",
       "      <th>9</th>\n",
       "      <td>Data Scientist</td>\n",
       "      <td>30d+</td>\n",
       "      <td>3.2</td>\n",
       "    </tr>\n",
       "  </tbody>\n",
       "</table>\n",
       "</div>"
      ],
      "text/plain": [
       "                           Company Name Job posted duration Rating\n",
       "0              Associate Data Scientist                30d+    3.6\n",
       "1                        Data Scientist                 13d    4.5\n",
       "2                        Data Scientist                  1d    3.3\n",
       "3                        Data Scientist                 13d    4.2\n",
       "4  Data Science Training Head-Full Time                30d+    3.8\n",
       "5                        Data Scientist                 15d    3.8\n",
       "6                        Data Scientist                  9d    4.0\n",
       "7               Data Science Consultant                 10d    3.4\n",
       "8                        Data Scientist                30d+    3.8\n",
       "9                        Data Scientist                30d+    3.2"
      ]
     },
     "execution_count": 93,
     "metadata": {},
     "output_type": "execute_result"
    }
   ],
   "source": [
    "# get all the company names\n",
    "job_names = driver.find_elements_by_xpath('//a[@class=\"jobLink job-search-key-1rd3saf eigr9kq1\"]//span')\n",
    "name = []\n",
    "for i in range(0,10):\n",
    "    name.append(job_names[i].text)\n",
    "\n",
    "# list the number of days ago the job was posted\n",
    "ago_date = driver.find_elements_by_xpath('//div[@data-test=\"job-age\"]')\n",
    "time = []\n",
    "for i in ago_date[:10]:\n",
    "    time.append(i.text)\n",
    "\n",
    "# get the rating of the companies\n",
    "company_rating=driver.find_elements_by_xpath(\"//span[@class=' job-search-key-srfzj0 e1cjmv6j0']\")\n",
    "rating=[]\n",
    "for i in range(0,10):\n",
    "    rating.append(company_rating[i].text)\n",
    "\n",
    "# creating the data frame now\n",
    "jobs = pd.DataFrame({})\n",
    "jobs['Company Name']=name\n",
    "jobs['Job posted duration']=time\n",
    "jobs['Rating']=rating\n",
    "jobs"
   ]
  },
  {
   "cell_type": "markdown",
   "metadata": {},
   "source": [
    "<h3>Q5: Write a python program to scrape the salary data for Data Scientist designation in Noida location. You have to scrape Company name, Number of salaries, Average salary, Min salary, Max Salary.</h3>"
   ]
  },
  {
   "cell_type": "code",
   "execution_count": 104,
   "metadata": {},
   "outputs": [],
   "source": [
    "#connecting to the web driver\n",
    "driver = webdriver.Chrome(\"Chromedriver.exe\")\n",
    "\n",
    "#get the url\n",
    "url = 'https://www.glassdoor.co.in/Salaries/index.htm'\n",
    "driver.get(url)"
   ]
  },
  {
   "cell_type": "code",
   "execution_count": 109,
   "metadata": {},
   "outputs": [],
   "source": [
    "#writing Data Scientist in Job Title or Company field\n",
    "job_title_field = driver.find_element_by_xpath(\"//input[@class='keyword']\")\n",
    "job_title_field.send_keys(\"Data Scientist\")"
   ]
  },
  {
   "cell_type": "code",
   "execution_count": 108,
   "metadata": {},
   "outputs": [],
   "source": [
    "#writing Noida in the location_field\n",
    "location_field = driver.find_element_by_xpath(\"//*[@id='LocationSearch']\")\n",
    "location_field.send_keys(\"Noida\")"
   ]
  },
  {
   "cell_type": "code",
   "execution_count": 110,
   "metadata": {},
   "outputs": [],
   "source": [
    "#clicking the search button by using xpath function\n",
    "search = driver.find_element_by_xpath(\"//button[@class='gd-btn-mkt']\")\n",
    "search.click()"
   ]
  },
  {
   "cell_type": "code",
   "execution_count": 111,
   "metadata": {},
   "outputs": [],
   "source": [
    "#extract top 10 tags having job_titles\n",
    "title_tags= driver.find_elements_by_xpath(\"//a[@class='css-f3vw95 e1aj7ssy3']\")\n",
    "company_name=[]\n",
    "for i in title_tags:\n",
    "    company_name.append(i.text)"
   ]
  },
  {
   "cell_type": "code",
   "execution_count": 115,
   "metadata": {},
   "outputs": [
    {
     "data": {
      "text/plain": [
       "[<selenium.webdriver.remote.webelement.WebElement (session=\"96dba7161d2511bebb75ebe34540e0e1\", element=\"ab7c57d1-ff42-4885-a0e6-94ca1336c9a0\")>,\n",
       " <selenium.webdriver.remote.webelement.WebElement (session=\"96dba7161d2511bebb75ebe34540e0e1\", element=\"55168a22-9a51-46b7-b583-f992ed031518\")>,\n",
       " <selenium.webdriver.remote.webelement.WebElement (session=\"96dba7161d2511bebb75ebe34540e0e1\", element=\"ad9f0e87-97e4-491c-8760-cb1954a00b8c\")>,\n",
       " <selenium.webdriver.remote.webelement.WebElement (session=\"96dba7161d2511bebb75ebe34540e0e1\", element=\"3dccd119-42d2-4f1b-b842-1c3ffb0ae0a5\")>,\n",
       " <selenium.webdriver.remote.webelement.WebElement (session=\"96dba7161d2511bebb75ebe34540e0e1\", element=\"a695abcd-95b4-4812-bd53-c0b36a47780e\")>,\n",
       " <selenium.webdriver.remote.webelement.WebElement (session=\"96dba7161d2511bebb75ebe34540e0e1\", element=\"403f659f-75b5-455a-86cb-4eadaec29061\")>,\n",
       " <selenium.webdriver.remote.webelement.WebElement (session=\"96dba7161d2511bebb75ebe34540e0e1\", element=\"0251690d-cd45-4d61-a7ee-12e5209abea5\")>,\n",
       " <selenium.webdriver.remote.webelement.WebElement (session=\"96dba7161d2511bebb75ebe34540e0e1\", element=\"1f01077d-959e-4be3-b3c2-14866f776bb1\")>,\n",
       " <selenium.webdriver.remote.webelement.WebElement (session=\"96dba7161d2511bebb75ebe34540e0e1\", element=\"be753c44-9ed5-4f3f-98dc-2c6d299cc0ad\")>,\n",
       " <selenium.webdriver.remote.webelement.WebElement (session=\"96dba7161d2511bebb75ebe34540e0e1\", element=\"95e99c5c-8ea0-46a6-910f-2b68fe39aa61\")>]"
      ]
     },
     "execution_count": 115,
     "metadata": {},
     "output_type": "execute_result"
    }
   ],
   "source": [
    "# to extract top 10 no of salary of the company\n",
    "No_of_Salary= driver.find_elements_by_xpath(\"//div[@class='col-12 col-lg-auto']//span\")[:10]\n",
    "no_of_salaries=[]\n",
    "for i in No_of_Salary:\n",
    "    no_of_salaries.append(i.text)"
   ]
  },
  {
   "cell_type": "code",
   "execution_count": 117,
   "metadata": {},
   "outputs": [
    {
     "data": {
      "text/plain": [
       "[<selenium.webdriver.remote.webelement.WebElement (session=\"96dba7161d2511bebb75ebe34540e0e1\", element=\"85f27743-697d-44ce-9e26-2b4e3eea5152\")>,\n",
       " <selenium.webdriver.remote.webelement.WebElement (session=\"96dba7161d2511bebb75ebe34540e0e1\", element=\"11105439-88a6-46d0-83aa-12ac086bc5a5\")>,\n",
       " <selenium.webdriver.remote.webelement.WebElement (session=\"96dba7161d2511bebb75ebe34540e0e1\", element=\"25b44087-bb9b-4592-b3fe-94060b6f7cd3\")>,\n",
       " <selenium.webdriver.remote.webelement.WebElement (session=\"96dba7161d2511bebb75ebe34540e0e1\", element=\"822a364a-6c29-4844-8ed9-ada9c6e2a2dc\")>,\n",
       " <selenium.webdriver.remote.webelement.WebElement (session=\"96dba7161d2511bebb75ebe34540e0e1\", element=\"7dc43528-a740-48fb-a3cd-c017e98512f1\")>,\n",
       " <selenium.webdriver.remote.webelement.WebElement (session=\"96dba7161d2511bebb75ebe34540e0e1\", element=\"8f9ee0d8-18ea-44b2-b5db-9c12aaa98cc7\")>,\n",
       " <selenium.webdriver.remote.webelement.WebElement (session=\"96dba7161d2511bebb75ebe34540e0e1\", element=\"61baf616-dd3c-4166-9852-e81179318955\")>,\n",
       " <selenium.webdriver.remote.webelement.WebElement (session=\"96dba7161d2511bebb75ebe34540e0e1\", element=\"354e941b-759b-4f77-86eb-672001ab8f02\")>,\n",
       " <selenium.webdriver.remote.webelement.WebElement (session=\"96dba7161d2511bebb75ebe34540e0e1\", element=\"d3482fc1-0702-4bf1-9053-8029439c25ec\")>,\n",
       " <selenium.webdriver.remote.webelement.WebElement (session=\"96dba7161d2511bebb75ebe34540e0e1\", element=\"755adb5d-ffe5-4905-af23-dbc7823d0d83\")>]"
      ]
     },
     "execution_count": 117,
     "metadata": {},
     "output_type": "execute_result"
    }
   ],
   "source": [
    "# to extract top 10 average salary\n",
    "average_salary= driver.find_elements_by_xpath(\"//div[@class='col-12 col-lg-4 px-lg-0 d-flex align-items-baseline']//h3\")[:10]\n",
    "average_salaries=[]\n",
    "for i in average_salary:\n",
    "    average_salaries.append(i.text)"
   ]
  },
  {
   "cell_type": "code",
   "execution_count": 129,
   "metadata": {},
   "outputs": [
    {
     "data": {
      "text/plain": [
       "[<selenium.webdriver.remote.webelement.WebElement (session=\"96dba7161d2511bebb75ebe34540e0e1\", element=\"afb0fbc7-935b-4064-af6c-56cb2bfe7113\")>,\n",
       " <selenium.webdriver.remote.webelement.WebElement (session=\"96dba7161d2511bebb75ebe34540e0e1\", element=\"77ec2a0b-933a-4327-b646-c90fe00d5f47\")>,\n",
       " <selenium.webdriver.remote.webelement.WebElement (session=\"96dba7161d2511bebb75ebe34540e0e1\", element=\"cfe225d6-1b4b-4ba3-9e32-8445b4ba33e0\")>,\n",
       " <selenium.webdriver.remote.webelement.WebElement (session=\"96dba7161d2511bebb75ebe34540e0e1\", element=\"3dca258c-498a-42a0-9677-7598962d1cb1\")>,\n",
       " <selenium.webdriver.remote.webelement.WebElement (session=\"96dba7161d2511bebb75ebe34540e0e1\", element=\"86fd2c87-4732-4e08-a8ab-7841d8dc361a\")>,\n",
       " <selenium.webdriver.remote.webelement.WebElement (session=\"96dba7161d2511bebb75ebe34540e0e1\", element=\"b158fb35-0608-44d0-bf66-5b75364ce023\")>,\n",
       " <selenium.webdriver.remote.webelement.WebElement (session=\"96dba7161d2511bebb75ebe34540e0e1\", element=\"5d262ef8-462c-49c3-8303-dcc265256aaf\")>,\n",
       " <selenium.webdriver.remote.webelement.WebElement (session=\"96dba7161d2511bebb75ebe34540e0e1\", element=\"510d0254-98ba-4de0-baf9-9556f4ab70ea\")>,\n",
       " <selenium.webdriver.remote.webelement.WebElement (session=\"96dba7161d2511bebb75ebe34540e0e1\", element=\"001b88e9-4b2d-42ad-9efe-89ccd1620b30\")>,\n",
       " <selenium.webdriver.remote.webelement.WebElement (session=\"96dba7161d2511bebb75ebe34540e0e1\", element=\"d0a20a02-1a2a-4b07-b49d-708728fc3c5f\")>,\n",
       " <selenium.webdriver.remote.webelement.WebElement (session=\"96dba7161d2511bebb75ebe34540e0e1\", element=\"aa4ec550-636e-42b9-b8cf-2398ca8797b4\")>,\n",
       " <selenium.webdriver.remote.webelement.WebElement (session=\"96dba7161d2511bebb75ebe34540e0e1\", element=\"75dcf4b1-a3ad-489e-943c-584e9c46cf41\")>,\n",
       " <selenium.webdriver.remote.webelement.WebElement (session=\"96dba7161d2511bebb75ebe34540e0e1\", element=\"92a78eab-eb7a-4e80-9294-efcc4aad3539\")>,\n",
       " <selenium.webdriver.remote.webelement.WebElement (session=\"96dba7161d2511bebb75ebe34540e0e1\", element=\"2ba68fc6-4959-4327-b69f-9f9dd325677a\")>,\n",
       " <selenium.webdriver.remote.webelement.WebElement (session=\"96dba7161d2511bebb75ebe34540e0e1\", element=\"acac49f2-08b1-425d-951f-c1db402aa62b\")>,\n",
       " <selenium.webdriver.remote.webelement.WebElement (session=\"96dba7161d2511bebb75ebe34540e0e1\", element=\"cc869d02-e5ea-4c09-a2e8-72d397e148dc\")>,\n",
       " <selenium.webdriver.remote.webelement.WebElement (session=\"96dba7161d2511bebb75ebe34540e0e1\", element=\"ccc0b628-15b3-4b7e-8c89-bdb496d86166\")>,\n",
       " <selenium.webdriver.remote.webelement.WebElement (session=\"96dba7161d2511bebb75ebe34540e0e1\", element=\"051672a0-9388-4784-8f20-832fedc1f8bb\")>,\n",
       " <selenium.webdriver.remote.webelement.WebElement (session=\"96dba7161d2511bebb75ebe34540e0e1\", element=\"44ba6a0c-8f72-4a91-9587-9600b968f45c\")>,\n",
       " <selenium.webdriver.remote.webelement.WebElement (session=\"96dba7161d2511bebb75ebe34540e0e1\", element=\"a90df963-2838-4d92-8aab-32cabba646bc\")>]"
      ]
     },
     "execution_count": 129,
     "metadata": {},
     "output_type": "execute_result"
    }
   ],
   "source": [
    "# to extract min and max salary by using xpath function\n",
    "min_salary=driver.find_elements_by_xpath(\"//span[@class='d-block d-lg-none m-0 css-1b6bxoo']\")\n",
    "Min_salaries=[]\n",
    "for i in min_salary:\n",
    "    Min_salaries.append(i.text[6:11])\n",
    "\n",
    "Max_salaries=[]\n",
    "for i in min_salary:\n",
    "    Max_salaries.append(i.text[12:17])\n"
   ]
  },
  {
   "cell_type": "code",
   "execution_count": 136,
   "metadata": {},
   "outputs": [],
   "source": [
    "# creating dataframe\n",
    "glass_job=pd.DataFrame({})\n",
    "glass_job[\"Company\"]=company_name[0:10]\n",
    "glass_job[\"No of Salary\"]=no_of_salaries[0:10]\n",
    "glass_job[\"Average salary\"]=average_salaries[0:10]\n",
    "glass_job[\"Mininum salary\"]=Min_salaries[0:10]\n",
    "glass_job[\"Maximum salary\"]=Max_salaries[0:10]"
   ]
  },
  {
   "cell_type": "code",
   "execution_count": 137,
   "metadata": {},
   "outputs": [
    {
     "data": {
      "text/html": [
       "<div>\n",
       "<style scoped>\n",
       "    .dataframe tbody tr th:only-of-type {\n",
       "        vertical-align: middle;\n",
       "    }\n",
       "\n",
       "    .dataframe tbody tr th {\n",
       "        vertical-align: top;\n",
       "    }\n",
       "\n",
       "    .dataframe thead th {\n",
       "        text-align: right;\n",
       "    }\n",
       "</style>\n",
       "<table border=\"1\" class=\"dataframe\">\n",
       "  <thead>\n",
       "    <tr style=\"text-align: right;\">\n",
       "      <th></th>\n",
       "      <th>Company</th>\n",
       "      <th>No of Salary</th>\n",
       "      <th>Average salary</th>\n",
       "      <th>Mininum salary</th>\n",
       "      <th>Maximum salary</th>\n",
       "    </tr>\n",
       "  </thead>\n",
       "  <tbody>\n",
       "    <tr>\n",
       "      <th>0</th>\n",
       "      <td>Tata Consultancy Services</td>\n",
       "      <td>21 salaries</td>\n",
       "      <td>₹6,19,349</td>\n",
       "      <td>₹4L</td>\n",
       "      <td>₹13L</td>\n",
       "    </tr>\n",
       "    <tr>\n",
       "      <th>1</th>\n",
       "      <td>IBM</td>\n",
       "      <td>20 salaries</td>\n",
       "      <td>₹9,00,000</td>\n",
       "      <td>₹1L</td>\n",
       "      <td>₹28L</td>\n",
       "    </tr>\n",
       "    <tr>\n",
       "      <th>2</th>\n",
       "      <td>Accenture</td>\n",
       "      <td>15 salaries</td>\n",
       "      <td>₹11,71,012</td>\n",
       "      <td>₹6L</td>\n",
       "      <td>₹22L</td>\n",
       "    </tr>\n",
       "    <tr>\n",
       "      <th>3</th>\n",
       "      <td>Delhivery</td>\n",
       "      <td>15 salaries</td>\n",
       "      <td>₹12,26,283</td>\n",
       "      <td>₹5L</td>\n",
       "      <td>₹1Cr</td>\n",
       "    </tr>\n",
       "    <tr>\n",
       "      <th>4</th>\n",
       "      <td>Ericsson-Worldwide</td>\n",
       "      <td>14 salaries</td>\n",
       "      <td>₹7,44,116</td>\n",
       "      <td>₹4L</td>\n",
       "      <td>₹16L</td>\n",
       "    </tr>\n",
       "    <tr>\n",
       "      <th>5</th>\n",
       "      <td>UnitedHealth Group</td>\n",
       "      <td>14 salaries</td>\n",
       "      <td>₹12,80,000</td>\n",
       "      <td>₹8L</td>\n",
       "      <td>₹15L</td>\n",
       "    </tr>\n",
       "    <tr>\n",
       "      <th>6</th>\n",
       "      <td>Optum</td>\n",
       "      <td>10 salaries</td>\n",
       "      <td>₹13,29,677</td>\n",
       "      <td>₹8L</td>\n",
       "      <td>₹20L</td>\n",
       "    </tr>\n",
       "    <tr>\n",
       "      <th>7</th>\n",
       "      <td>Optum Global Solutions</td>\n",
       "      <td>10 salaries</td>\n",
       "      <td>₹14,28,139</td>\n",
       "      <td>₹10L</td>\n",
       "      <td>- ₹17</td>\n",
       "    </tr>\n",
       "    <tr>\n",
       "      <th>8</th>\n",
       "      <td>Valiance Solutions</td>\n",
       "      <td>10 salaries</td>\n",
       "      <td>₹8,69,449</td>\n",
       "      <td>₹5L</td>\n",
       "      <td>₹15L</td>\n",
       "    </tr>\n",
       "    <tr>\n",
       "      <th>9</th>\n",
       "      <td>EXL Service</td>\n",
       "      <td>9 salaries</td>\n",
       "      <td>₹11,10,000</td>\n",
       "      <td>₹6L</td>\n",
       "      <td>₹15L</td>\n",
       "    </tr>\n",
       "  </tbody>\n",
       "</table>\n",
       "</div>"
      ],
      "text/plain": [
       "                     Company No of Salary Average salary Mininum salary  \\\n",
       "0  Tata Consultancy Services  21 salaries      ₹6,19,349           ₹4L    \n",
       "1                        IBM  20 salaries      ₹9,00,000           ₹1L    \n",
       "2                  Accenture  15 salaries     ₹11,71,012           ₹6L    \n",
       "3                  Delhivery  15 salaries     ₹12,26,283           ₹5L    \n",
       "4         Ericsson-Worldwide  14 salaries      ₹7,44,116           ₹4L    \n",
       "5         UnitedHealth Group  14 salaries     ₹12,80,000           ₹8L    \n",
       "6                      Optum  10 salaries     ₹13,29,677           ₹8L    \n",
       "7     Optum Global Solutions  10 salaries     ₹14,28,139           ₹10L   \n",
       "8         Valiance Solutions  10 salaries      ₹8,69,449           ₹5L    \n",
       "9                EXL Service   9 salaries     ₹11,10,000           ₹6L    \n",
       "\n",
       "  Maximum salary  \n",
       "0           ₹13L  \n",
       "1           ₹28L  \n",
       "2           ₹22L  \n",
       "3           ₹1Cr  \n",
       "4           ₹16L  \n",
       "5           ₹15L  \n",
       "6           ₹20L  \n",
       "7          - ₹17  \n",
       "8           ₹15L  \n",
       "9           ₹15L  "
      ]
     },
     "execution_count": 137,
     "metadata": {},
     "output_type": "execute_result"
    }
   ],
   "source": [
    "glass_job"
   ]
  },
  {
   "cell_type": "markdown",
   "metadata": {},
   "source": [
    "<h3>Q6 : Scrape data of first 100 sunglasses listings on flipkart.com. You have to scrape four attributes: 1. Brand 2. Product Description 3. Price 4. Discount % </h3>"
   ]
  },
  {
   "cell_type": "code",
   "execution_count": 86,
   "metadata": {},
   "outputs": [],
   "source": [
    "# connecting web driver\n",
    "driver = webdriver.Chrome(\"Chromedriver.exe\")\n",
    "\n",
    "#get the url\n",
    "webpage = 'https://www.flipkart.com/ '\n",
    "driver.get(webpage)"
   ]
  },
  {
   "cell_type": "code",
   "execution_count": 87,
   "metadata": {},
   "outputs": [],
   "source": [
    "# click on cross button in login page\n",
    "cross_login_button = driver.find_element_by_xpath('/html/body/div[2]/div/div/button')\n",
    "cross_login_button.click()"
   ]
  },
  {
   "cell_type": "code",
   "execution_count": 88,
   "metadata": {},
   "outputs": [],
   "source": [
    "# sending input 'sunglasses' on search bar \n",
    "search_option = driver.find_element_by_xpath('//*[@id=\"container\"]/div/div[1]/div[1]/div[2]/div[2]/form/div/div/input')\n",
    "search_option.send_keys('sunglasses')"
   ]
  },
  {
   "cell_type": "code",
   "execution_count": 89,
   "metadata": {},
   "outputs": [],
   "source": [
    "# clicking on search button\n",
    "search_button = driver.find_element_by_xpath('//button[@class=\"L0Z3Pu\"]')\n",
    "search_button.click()"
   ]
  },
  {
   "cell_type": "code",
   "execution_count": 90,
   "metadata": {},
   "outputs": [],
   "source": [
    "# fetching page urls\n",
    "page_urls=[]\n",
    "next_button_url = driver.find_elements_by_xpath(\"//nav[@class='yFHi8N']//a\")[:3]\n",
    "for i in next_button_url:\n",
    "    page_urls.append(i.get_attribute('href'))"
   ]
  },
  {
   "cell_type": "code",
   "execution_count": 91,
   "metadata": {},
   "outputs": [],
   "source": [
    "# fetching brand names\n",
    "Brand_names=[]\n",
    "for link in page_urls:\n",
    "    driver.get(link)\n",
    "    try:\n",
    "        Brand_name = driver.find_elements_by_xpath(\"//div[@class='_2WkVRV']\")\n",
    "        for brand in Brand_name:\n",
    "            Brand_names.append(brand.text)\n",
    "    except:\n",
    "        Brand_names.append('----')         "
   ]
  },
  {
   "cell_type": "code",
   "execution_count": 92,
   "metadata": {},
   "outputs": [],
   "source": [
    "# fetching description\n",
    "product_discription=[]\n",
    "for link in page_urls:\n",
    "    driver.get(link)\n",
    "    try:\n",
    "        prod_disc = driver.find_elements_by_xpath(\"//a[@class='IRpwTa']\")\n",
    "        for prod in prod_disc:\n",
    "            product_discription.append(prod.text)\n",
    "    except:\n",
    "        product_discription.append('----')\n"
   ]
  },
  {
   "cell_type": "code",
   "execution_count": 93,
   "metadata": {},
   "outputs": [],
   "source": [
    "# fetching price\n",
    "Brand_prices=[]\n",
    "for link in page_urls:\n",
    "    driver.get(link)\n",
    "    try:\n",
    "        Brand_price =driver.find_elements_by_xpath(\"//div[@class='_30jeq3']\")\n",
    "        for price in Brand_price:\n",
    "            Brand_prices.append(price.text)\n",
    "    except:\n",
    "        Brand_prices.append('--')"
   ]
  },
  {
   "cell_type": "code",
   "execution_count": 94,
   "metadata": {},
   "outputs": [],
   "source": [
    "# fetching discount\n",
    "Discount_price=[]\n",
    "for link in page_urls:\n",
    "    driver.get(link)\n",
    "    try:\n",
    "        Discount =driver.find_elements_by_xpath(\"//div[@class='_3Ay6Sb']\")        \n",
    "        for disc in Discount:\n",
    "            Discount_price.append(disc.text)\n",
    "    except:\n",
    "        Discount_price.append('---')"
   ]
  },
  {
   "cell_type": "code",
   "execution_count": 95,
   "metadata": {},
   "outputs": [],
   "source": [
    "# Creating dataframe\n",
    "glasses = pd.DataFrame({})\n",
    "glasses['Brand']=Brand_names[0:100]\n",
    "glasses['Discription']=product_discription[0:100]\n",
    "glasses['Discount %']=Discount_price[0:100]\n",
    "glasses['Price']=Brand_prices[0:100]"
   ]
  },
  {
   "cell_type": "code",
   "execution_count": 96,
   "metadata": {},
   "outputs": [
    {
     "data": {
      "text/html": [
       "<div>\n",
       "<style scoped>\n",
       "    .dataframe tbody tr th:only-of-type {\n",
       "        vertical-align: middle;\n",
       "    }\n",
       "\n",
       "    .dataframe tbody tr th {\n",
       "        vertical-align: top;\n",
       "    }\n",
       "\n",
       "    .dataframe thead th {\n",
       "        text-align: right;\n",
       "    }\n",
       "</style>\n",
       "<table border=\"1\" class=\"dataframe\">\n",
       "  <thead>\n",
       "    <tr style=\"text-align: right;\">\n",
       "      <th></th>\n",
       "      <th>Brand</th>\n",
       "      <th>Discription</th>\n",
       "      <th>Discount %</th>\n",
       "      <th>Price</th>\n",
       "    </tr>\n",
       "  </thead>\n",
       "  <tbody>\n",
       "    <tr>\n",
       "      <th>0</th>\n",
       "      <td>ROYAL SON</td>\n",
       "      <td>Polarized Retro Square Sunglasses (58)</td>\n",
       "      <td>57% off</td>\n",
       "      <td>₹854</td>\n",
       "    </tr>\n",
       "    <tr>\n",
       "      <th>1</th>\n",
       "      <td>ROYAL SON</td>\n",
       "      <td>Polarized, UV Protection Round Sunglasses (49)</td>\n",
       "      <td>66% off</td>\n",
       "      <td>₹664</td>\n",
       "    </tr>\n",
       "    <tr>\n",
       "      <th>2</th>\n",
       "      <td>Elligator</td>\n",
       "      <td>UV Protection Round Sunglasses (54)</td>\n",
       "      <td>86% off</td>\n",
       "      <td>₹329</td>\n",
       "    </tr>\n",
       "    <tr>\n",
       "      <th>3</th>\n",
       "      <td>SHAAH COLLECTIONS</td>\n",
       "      <td>UV Protection, Polarized, Mirrored Rectangular...</td>\n",
       "      <td>88% off</td>\n",
       "      <td>₹198</td>\n",
       "    </tr>\n",
       "    <tr>\n",
       "      <th>4</th>\n",
       "      <td>PIRASO</td>\n",
       "      <td>UV Protection Aviator Sunglasses (54)</td>\n",
       "      <td>84% off</td>\n",
       "      <td>₹250</td>\n",
       "    </tr>\n",
       "    <tr>\n",
       "      <th>...</th>\n",
       "      <td>...</td>\n",
       "      <td>...</td>\n",
       "      <td>...</td>\n",
       "      <td>...</td>\n",
       "    </tr>\n",
       "    <tr>\n",
       "      <th>95</th>\n",
       "      <td>ROYAL SON</td>\n",
       "      <td>UV Protection Aviator Sunglasses (58)</td>\n",
       "      <td>86% off</td>\n",
       "      <td>₹664</td>\n",
       "    </tr>\n",
       "    <tr>\n",
       "      <th>96</th>\n",
       "      <td>PIRASO</td>\n",
       "      <td>UV Protection Retro Square Sunglasses (Free Size)</td>\n",
       "      <td>18% off</td>\n",
       "      <td>₹219</td>\n",
       "    </tr>\n",
       "    <tr>\n",
       "      <th>97</th>\n",
       "      <td>Fastrack</td>\n",
       "      <td>UV Protection Retro Square Sunglasses (88)</td>\n",
       "      <td>80% off</td>\n",
       "      <td>₹1,059</td>\n",
       "    </tr>\n",
       "    <tr>\n",
       "      <th>98</th>\n",
       "      <td>Fravy</td>\n",
       "      <td>UV Protection, Gradient Wayfarer Sunglasses (55)</td>\n",
       "      <td>85% off</td>\n",
       "      <td>₹299</td>\n",
       "    </tr>\n",
       "    <tr>\n",
       "      <th>99</th>\n",
       "      <td>GANSTA</td>\n",
       "      <td>Polarized, UV Protection Round Sunglasses (49)</td>\n",
       "      <td>79% off</td>\n",
       "      <td>₹295</td>\n",
       "    </tr>\n",
       "  </tbody>\n",
       "</table>\n",
       "<p>100 rows × 4 columns</p>\n",
       "</div>"
      ],
      "text/plain": [
       "                Brand                                        Discription  \\\n",
       "0           ROYAL SON             Polarized Retro Square Sunglasses (58)   \n",
       "1           ROYAL SON     Polarized, UV Protection Round Sunglasses (49)   \n",
       "2           Elligator                UV Protection Round Sunglasses (54)   \n",
       "3   SHAAH COLLECTIONS  UV Protection, Polarized, Mirrored Rectangular...   \n",
       "4              PIRASO              UV Protection Aviator Sunglasses (54)   \n",
       "..                ...                                                ...   \n",
       "95          ROYAL SON              UV Protection Aviator Sunglasses (58)   \n",
       "96             PIRASO  UV Protection Retro Square Sunglasses (Free Size)   \n",
       "97           Fastrack         UV Protection Retro Square Sunglasses (88)   \n",
       "98              Fravy   UV Protection, Gradient Wayfarer Sunglasses (55)   \n",
       "99             GANSTA     Polarized, UV Protection Round Sunglasses (49)   \n",
       "\n",
       "   Discount %   Price  \n",
       "0     57% off    ₹854  \n",
       "1     66% off    ₹664  \n",
       "2     86% off    ₹329  \n",
       "3     88% off    ₹198  \n",
       "4     84% off    ₹250  \n",
       "..        ...     ...  \n",
       "95    86% off    ₹664  \n",
       "96    18% off    ₹219  \n",
       "97    80% off  ₹1,059  \n",
       "98    85% off    ₹299  \n",
       "99    79% off    ₹295  \n",
       "\n",
       "[100 rows x 4 columns]"
      ]
     },
     "execution_count": 96,
     "metadata": {},
     "output_type": "execute_result"
    }
   ],
   "source": [
    "glasses"
   ]
  },
  {
   "cell_type": "markdown",
   "metadata": {},
   "source": [
    "<h3>Q7: Scrape 100 reviews data from flipkart.com for iphone11 phone.</h3>"
   ]
  },
  {
   "cell_type": "code",
   "execution_count": 32,
   "metadata": {},
   "outputs": [],
   "source": [
    "#connecting to the web driver\n",
    "driver = webdriver.Chrome(\"Chromedriver.exe\")"
   ]
  },
  {
   "cell_type": "code",
   "execution_count": 33,
   "metadata": {},
   "outputs": [],
   "source": [
    "#get the url\n",
    "url ='https://www.flipkart.com/apple-iphone-11-black-64-gb-includes-earpods-power-adapter/p/itm0f37c2240b217?pid=MOBFKCTSVZAXUHGR&lid=LSTMOBFKCTSVZAXUHGREPBFGI&marketplace'\n",
    "driver.get(url)"
   ]
  },
  {
   "cell_type": "code",
   "execution_count": 34,
   "metadata": {
    "scrolled": true
   },
   "outputs": [],
   "source": [
    "# clicking on review all \n",
    "click_on_review_all = driver.find_elements_by_xpath('//div[@class=\"_3UAT2v _16PBlm\"]')\n",
    "click_on_review_all[0].click()"
   ]
  },
  {
   "cell_type": "code",
   "execution_count": 35,
   "metadata": {},
   "outputs": [
    {
     "data": {
      "text/plain": [
       "['https://www.flipkart.com/apple-iphone-11-black-64-gb-includes-earpods-power-adapter/product-reviews/itm0f37c2240b217?pid=MOBFKCTSVZAXUHGR&lid=LSTMOBFKCTSVZAXUHGREPBFGI&marketplace=FLIPKART&page=1',\n",
       " 'https://www.flipkart.com/apple-iphone-11-black-64-gb-includes-earpods-power-adapter/product-reviews/itm0f37c2240b217?pid=MOBFKCTSVZAXUHGR&lid=LSTMOBFKCTSVZAXUHGREPBFGI&marketplace=FLIPKART&page=2',\n",
       " 'https://www.flipkart.com/apple-iphone-11-black-64-gb-includes-earpods-power-adapter/product-reviews/itm0f37c2240b217?pid=MOBFKCTSVZAXUHGR&lid=LSTMOBFKCTSVZAXUHGREPBFGI&marketplace=FLIPKART&page=3',\n",
       " 'https://www.flipkart.com/apple-iphone-11-black-64-gb-includes-earpods-power-adapter/product-reviews/itm0f37c2240b217?pid=MOBFKCTSVZAXUHGR&lid=LSTMOBFKCTSVZAXUHGREPBFGI&marketplace=FLIPKART&page=4',\n",
       " 'https://www.flipkart.com/apple-iphone-11-black-64-gb-includes-earpods-power-adapter/product-reviews/itm0f37c2240b217?pid=MOBFKCTSVZAXUHGR&lid=LSTMOBFKCTSVZAXUHGREPBFGI&marketplace=FLIPKART&page=5',\n",
       " 'https://www.flipkart.com/apple-iphone-11-black-64-gb-includes-earpods-power-adapter/product-reviews/itm0f37c2240b217?pid=MOBFKCTSVZAXUHGR&lid=LSTMOBFKCTSVZAXUHGREPBFGI&marketplace=FLIPKART&page=6',\n",
       " 'https://www.flipkart.com/apple-iphone-11-black-64-gb-includes-earpods-power-adapter/product-reviews/itm0f37c2240b217?pid=MOBFKCTSVZAXUHGR&lid=LSTMOBFKCTSVZAXUHGREPBFGI&marketplace=FLIPKART&page=7',\n",
       " 'https://www.flipkart.com/apple-iphone-11-black-64-gb-includes-earpods-power-adapter/product-reviews/itm0f37c2240b217?pid=MOBFKCTSVZAXUHGR&lid=LSTMOBFKCTSVZAXUHGREPBFGI&marketplace=FLIPKART&page=8',\n",
       " 'https://www.flipkart.com/apple-iphone-11-black-64-gb-includes-earpods-power-adapter/product-reviews/itm0f37c2240b217?pid=MOBFKCTSVZAXUHGR&lid=LSTMOBFKCTSVZAXUHGREPBFGI&marketplace=FLIPKART&page=9',\n",
       " 'https://www.flipkart.com/apple-iphone-11-black-64-gb-includes-earpods-power-adapter/product-reviews/itm0f37c2240b217?pid=MOBFKCTSVZAXUHGR&lid=LSTMOBFKCTSVZAXUHGREPBFGI&marketplace=FLIPKART&page=10',\n",
       " 'https://www.flipkart.com/apple-iphone-11-black-64-gb-includes-earpods-power-adapter/product-reviews/itm0f37c2240b217?pid=MOBFKCTSVZAXUHGR&lid=LSTMOBFKCTSVZAXUHGREPBFGI&marketplace=FLIPKART&page=2']"
      ]
     },
     "execution_count": 35,
     "metadata": {},
     "output_type": "execute_result"
    }
   ],
   "source": [
    "# extracting all page urls\n",
    "All_page_urls=[]\n",
    "Next_link_urls= driver.find_elements_by_xpath('//nav[@class=\"yFHi8N\"]/a')\n",
    "for i in Next_link_urls:\n",
    "    All_page_urls.append(i.get_attribute('href'))"
   ]
  },
  {
   "cell_type": "code",
   "execution_count": 53,
   "metadata": {},
   "outputs": [],
   "source": [
    "# Fetching phone ratings\n",
    "PHONE_RATING=[]\n",
    "for i in All_page_urls:\n",
    "    driver.get(i)\n",
    "    try:\n",
    "        Phone_rating = driver.find_elements_by_xpath('//div[@class=\"_3LWZlK _1BLPMq\"]')\n",
    "        for j in Phone_rating:\n",
    "            PHONE_RATING.append(j.text)\n",
    "    except:\n",
    "        PHONE_RATING.append('--')"
   ]
  },
  {
   "cell_type": "code",
   "execution_count": 56,
   "metadata": {},
   "outputs": [],
   "source": [
    "# Fetching Review summary\n",
    "REVIEW_SUMMARY=[]\n",
    "for i in All_page_urls:\n",
    "    driver.get(i)\n",
    "    try:\n",
    "        Review_summary=driver.find_elements_by_xpath('//p[@class=\"_2-N8zT\"]')\n",
    "        for j in Review_summary:\n",
    "            REVIEW_SUMMARY.append(j.text)\n",
    "    except:\n",
    "        REVIEW_SUMMARY.append('--')"
   ]
  },
  {
   "cell_type": "code",
   "execution_count": 59,
   "metadata": {},
   "outputs": [],
   "source": [
    "# Fetching full review\n",
    "FULL_REVIEW=[]\n",
    "for i in All_page_urls:\n",
    "    driver.get(i)\n",
    "    try:\n",
    "        Full_Review=driver.find_elements_by_xpath('//div[@class=\"t-ZTKy\"]/div/div')\n",
    "        for j in Full_Review:\n",
    "            FULL_REVIEW.append(j.text)\n",
    "    except:\n",
    "        FULL_REVIEW.append('--')"
   ]
  },
  {
   "cell_type": "code",
   "execution_count": 62,
   "metadata": {},
   "outputs": [],
   "source": [
    "# creating Dataframe\n",
    "Iphone_review = pd.DataFrame({})\n",
    "Iphone_review['Phone Rating']=PHONE_RATING[0:100]\n",
    "Iphone_review['Review Summary']=REVIEW_SUMMARY[0:100]\n",
    "Iphone_review['Full Summary']=FULL_REVIEW[0:100]"
   ]
  },
  {
   "cell_type": "code",
   "execution_count": 63,
   "metadata": {},
   "outputs": [
    {
     "data": {
      "text/html": [
       "<div>\n",
       "<style scoped>\n",
       "    .dataframe tbody tr th:only-of-type {\n",
       "        vertical-align: middle;\n",
       "    }\n",
       "\n",
       "    .dataframe tbody tr th {\n",
       "        vertical-align: top;\n",
       "    }\n",
       "\n",
       "    .dataframe thead th {\n",
       "        text-align: right;\n",
       "    }\n",
       "</style>\n",
       "<table border=\"1\" class=\"dataframe\">\n",
       "  <thead>\n",
       "    <tr style=\"text-align: right;\">\n",
       "      <th></th>\n",
       "      <th>Phone Rating</th>\n",
       "      <th>Review Summary</th>\n",
       "      <th>Full Summary</th>\n",
       "    </tr>\n",
       "  </thead>\n",
       "  <tbody>\n",
       "    <tr>\n",
       "      <th>0</th>\n",
       "      <td>5</td>\n",
       "      <td>Brilliant</td>\n",
       "      <td>The Best Phone for the Money\\n\\nThe iPhone 11 ...</td>\n",
       "    </tr>\n",
       "    <tr>\n",
       "      <th>1</th>\n",
       "      <td>5</td>\n",
       "      <td>Simply awesome</td>\n",
       "      <td>Really satisfied with the Product I received.....</td>\n",
       "    </tr>\n",
       "    <tr>\n",
       "      <th>2</th>\n",
       "      <td>5</td>\n",
       "      <td>Best in the market!</td>\n",
       "      <td>Great iPhone very snappy experience as apple k...</td>\n",
       "    </tr>\n",
       "    <tr>\n",
       "      <th>3</th>\n",
       "      <td>5</td>\n",
       "      <td>Perfect product!</td>\n",
       "      <td>Amazing phone with great cameras and better ba...</td>\n",
       "    </tr>\n",
       "    <tr>\n",
       "      <th>4</th>\n",
       "      <td>5</td>\n",
       "      <td>Fabulous!</td>\n",
       "      <td>This is my first iOS phone. I am very happy wi...</td>\n",
       "    </tr>\n",
       "    <tr>\n",
       "      <th>...</th>\n",
       "      <td>...</td>\n",
       "      <td>...</td>\n",
       "      <td>...</td>\n",
       "    </tr>\n",
       "    <tr>\n",
       "      <th>95</th>\n",
       "      <td>5</td>\n",
       "      <td>Just wow!</td>\n",
       "      <td>The ultimate performance\\nCamera is superb\\nTh...</td>\n",
       "    </tr>\n",
       "    <tr>\n",
       "      <th>96</th>\n",
       "      <td>3</td>\n",
       "      <td>Terrific purchase</td>\n",
       "      <td>I use a Note10+ and have been using both iOS a...</td>\n",
       "    </tr>\n",
       "    <tr>\n",
       "      <th>97</th>\n",
       "      <td>5</td>\n",
       "      <td>Awesome</td>\n",
       "      <td>The phone is completely good\\nAs far as camera...</td>\n",
       "    </tr>\n",
       "    <tr>\n",
       "      <th>98</th>\n",
       "      <td>5</td>\n",
       "      <td>Decent product</td>\n",
       "      <td>Everything u ll like it when u use this iPhone...</td>\n",
       "    </tr>\n",
       "    <tr>\n",
       "      <th>99</th>\n",
       "      <td>5</td>\n",
       "      <td>Awesome</td>\n",
       "      <td>Can’t beat the software and hardware integrati...</td>\n",
       "    </tr>\n",
       "  </tbody>\n",
       "</table>\n",
       "<p>100 rows × 3 columns</p>\n",
       "</div>"
      ],
      "text/plain": [
       "   Phone Rating       Review Summary  \\\n",
       "0             5            Brilliant   \n",
       "1             5       Simply awesome   \n",
       "2             5  Best in the market!   \n",
       "3             5     Perfect product!   \n",
       "4             5            Fabulous!   \n",
       "..          ...                  ...   \n",
       "95            5            Just wow!   \n",
       "96            3    Terrific purchase   \n",
       "97            5              Awesome   \n",
       "98            5       Decent product   \n",
       "99            5              Awesome   \n",
       "\n",
       "                                         Full Summary  \n",
       "0   The Best Phone for the Money\\n\\nThe iPhone 11 ...  \n",
       "1   Really satisfied with the Product I received.....  \n",
       "2   Great iPhone very snappy experience as apple k...  \n",
       "3   Amazing phone with great cameras and better ba...  \n",
       "4   This is my first iOS phone. I am very happy wi...  \n",
       "..                                                ...  \n",
       "95  The ultimate performance\\nCamera is superb\\nTh...  \n",
       "96  I use a Note10+ and have been using both iOS a...  \n",
       "97  The phone is completely good\\nAs far as camera...  \n",
       "98  Everything u ll like it when u use this iPhone...  \n",
       "99  Can’t beat the software and hardware integrati...  \n",
       "\n",
       "[100 rows x 3 columns]"
      ]
     },
     "execution_count": 63,
     "metadata": {},
     "output_type": "execute_result"
    }
   ],
   "source": [
    "Iphone_review"
   ]
  },
  {
   "cell_type": "markdown",
   "metadata": {},
   "source": [
    "<h3>Q8: Scrape data for first 100 sneakers you find when you visit flipkart.com and search for “sneakers” in the search field. You have to scrape 4 attributes of each sneaker : 1. Brand 2. Product Description 3. Price 4. discount %</h3>"
   ]
  },
  {
   "cell_type": "code",
   "execution_count": 64,
   "metadata": {},
   "outputs": [],
   "source": [
    "#connecting to the web driver\n",
    "driver = webdriver.Chrome(\"Chromedriver.exe\")"
   ]
  },
  {
   "cell_type": "code",
   "execution_count": 65,
   "metadata": {},
   "outputs": [],
   "source": [
    "#get the url\n",
    "url ='https://www.flipkart.com/'\n",
    "driver.get(url)"
   ]
  },
  {
   "cell_type": "code",
   "execution_count": 66,
   "metadata": {},
   "outputs": [],
   "source": [
    "# click on cross button on login page\n",
    "cross_login_button = driver.find_element_by_xpath('/html/body/div[2]/div/div/button')\n",
    "cross_login_button.click()"
   ]
  },
  {
   "cell_type": "code",
   "execution_count": 67,
   "metadata": {},
   "outputs": [],
   "source": [
    "# sending input 'Sneakers' on search bar\n",
    "search_option = driver.find_element_by_xpath('//*[@id=\"container\"]/div/div[1]/div[1]/div[2]/div[2]/form/div/div/input')\n",
    "search_option.send_keys('sneakers')"
   ]
  },
  {
   "cell_type": "code",
   "execution_count": 68,
   "metadata": {},
   "outputs": [],
   "source": [
    "# clicking on search button\n",
    "search_button = driver.find_element_by_xpath('//button[@class=\"L0Z3Pu\"]')\n",
    "search_button.click()"
   ]
  },
  {
   "cell_type": "code",
   "execution_count": 69,
   "metadata": {},
   "outputs": [
    {
     "data": {
      "text/plain": [
       "['https://www.flipkart.com/search?q=sneakers&otracker=search&otracker1=search&marketplace=FLIPKART&as-show=on&as=off&page=1',\n",
       " 'https://www.flipkart.com/search?q=sneakers&otracker=search&otracker1=search&marketplace=FLIPKART&as-show=on&as=off&page=2',\n",
       " 'https://www.flipkart.com/search?q=sneakers&otracker=search&otracker1=search&marketplace=FLIPKART&as-show=on&as=off&page=3']"
      ]
     },
     "execution_count": 69,
     "metadata": {},
     "output_type": "execute_result"
    }
   ],
   "source": [
    "# page urls\n",
    "page_urls=[]\n",
    "next_button_url = driver.find_elements_by_xpath(\"//nav[@class='yFHi8N']//a\")[:3]\n",
    "for i in next_button_url:\n",
    "    page_urls.append(i.get_attribute('href'))\n",
    "page_urls"
   ]
  },
  {
   "cell_type": "code",
   "execution_count": 73,
   "metadata": {},
   "outputs": [],
   "source": [
    "# fetching brand name\n",
    "Brand_names=[]\n",
    "for link in page_urls:\n",
    "    driver.get(link)\n",
    "    try:\n",
    "        Brand_name = driver.find_elements_by_xpath(\"//div[@class='_2WkVRV']\")\n",
    "        for brand in Brand_name:\n",
    "            Brand_names.append(brand.text)\n",
    "    except:\n",
    "        Brand_names.append('----')   "
   ]
  },
  {
   "cell_type": "code",
   "execution_count": 75,
   "metadata": {},
   "outputs": [],
   "source": [
    "# fetching description\n",
    "product_discription=[]\n",
    "for link in page_urls:\n",
    "    driver.get(link)\n",
    "    try:\n",
    "        prod_disc = driver.find_elements_by_xpath(\"//a[@class='IRpwTa']\")\n",
    "        for prod in prod_disc:\n",
    "            product_discription.append(prod.text)\n",
    "    except:\n",
    "        product_discription.append('----')\n"
   ]
  },
  {
   "cell_type": "code",
   "execution_count": 77,
   "metadata": {},
   "outputs": [],
   "source": [
    "# fetching price\n",
    "Brand_prices=[]\n",
    "for link in page_urls:\n",
    "    driver.get(link)\n",
    "    try:\n",
    "        Brand_price =driver.find_elements_by_xpath(\"//div[@class='_30jeq3']\")\n",
    "        for price in Brand_price:\n",
    "            Brand_prices.append(price.text)\n",
    "    except:\n",
    "        Brand_prices.append('--')"
   ]
  },
  {
   "cell_type": "code",
   "execution_count": 79,
   "metadata": {},
   "outputs": [],
   "source": [
    "# fetching Discount\n",
    "Discount_price=[]\n",
    "for link in page_urls:\n",
    "    driver.get(link)\n",
    "    try:\n",
    "        Discount =driver.find_elements_by_xpath(\"//div[@class='_3Ay6Sb']\")        \n",
    "        for disc in Discount:\n",
    "            Discount_price.append(disc.text)\n",
    "    except:\n",
    "        Discount_price.append('---')"
   ]
  },
  {
   "cell_type": "code",
   "execution_count": 81,
   "metadata": {},
   "outputs": [],
   "source": [
    "# Creating dataframe\n",
    "sneakers = pd.DataFrame({})\n",
    "sneakers['Brand']=Brand_names[0:100]\n",
    "sneakers['Discription']=product_discription[0:100]\n",
    "sneakers['Discount %']=Discount_price[0:100]\n",
    "sneakers['Price']=Brand_prices[0:100]"
   ]
  },
  {
   "cell_type": "code",
   "execution_count": 82,
   "metadata": {},
   "outputs": [
    {
     "data": {
      "text/html": [
       "<div>\n",
       "<style scoped>\n",
       "    .dataframe tbody tr th:only-of-type {\n",
       "        vertical-align: middle;\n",
       "    }\n",
       "\n",
       "    .dataframe tbody tr th {\n",
       "        vertical-align: top;\n",
       "    }\n",
       "\n",
       "    .dataframe thead th {\n",
       "        text-align: right;\n",
       "    }\n",
       "</style>\n",
       "<table border=\"1\" class=\"dataframe\">\n",
       "  <thead>\n",
       "    <tr style=\"text-align: right;\">\n",
       "      <th></th>\n",
       "      <th>Brand</th>\n",
       "      <th>Discription</th>\n",
       "      <th>Discount %</th>\n",
       "      <th>Price</th>\n",
       "    </tr>\n",
       "  </thead>\n",
       "  <tbody>\n",
       "    <tr>\n",
       "      <th>0</th>\n",
       "      <td>Echor</td>\n",
       "      <td>Mens Walking Running Shoes - Lightweight Breat...</td>\n",
       "      <td>60% off</td>\n",
       "      <td>₹399</td>\n",
       "    </tr>\n",
       "    <tr>\n",
       "      <th>1</th>\n",
       "      <td>Chevit</td>\n",
       "      <td>Combo Pack of 4 Casual Sneakers With Sneakers ...</td>\n",
       "      <td>76% off</td>\n",
       "      <td>₹474</td>\n",
       "    </tr>\n",
       "    <tr>\n",
       "      <th>2</th>\n",
       "      <td>Longwalk</td>\n",
       "      <td>Men Boxer Sneakers For Men</td>\n",
       "      <td>55% off</td>\n",
       "      <td>₹221</td>\n",
       "    </tr>\n",
       "    <tr>\n",
       "      <th>3</th>\n",
       "      <td>Chevit</td>\n",
       "      <td>Super Stylish &amp; Trendy Combo Pack of 02 Pairs ...</td>\n",
       "      <td>62% off</td>\n",
       "      <td>₹599</td>\n",
       "    </tr>\n",
       "    <tr>\n",
       "      <th>4</th>\n",
       "      <td>ASTEROID</td>\n",
       "      <td>Original Luxury Branded Fashionable Men's Casu...</td>\n",
       "      <td>75% off</td>\n",
       "      <td>₹499</td>\n",
       "    </tr>\n",
       "    <tr>\n",
       "      <th>...</th>\n",
       "      <td>...</td>\n",
       "      <td>...</td>\n",
       "      <td>...</td>\n",
       "      <td>...</td>\n",
       "    </tr>\n",
       "    <tr>\n",
       "      <th>95</th>\n",
       "      <td>Chevit</td>\n",
       "      <td>Casual Sneakers Sneakers For Men</td>\n",
       "      <td>76% off</td>\n",
       "      <td>₹474</td>\n",
       "    </tr>\n",
       "    <tr>\n",
       "      <th>96</th>\n",
       "      <td>D-SNEAKERZ</td>\n",
       "      <td>Puma Kor IDP Sneakers For Men</td>\n",
       "      <td>65% off</td>\n",
       "      <td>₹346</td>\n",
       "    </tr>\n",
       "    <tr>\n",
       "      <th>97</th>\n",
       "      <td>Chevit</td>\n",
       "      <td>Raptor Sneakers For Men</td>\n",
       "      <td>52% off</td>\n",
       "      <td>₹473</td>\n",
       "    </tr>\n",
       "    <tr>\n",
       "      <th>98</th>\n",
       "      <td>SPARX</td>\n",
       "      <td>Modern &amp; Trendy Collection Combo Pack of 02 Sh...</td>\n",
       "      <td>15% off</td>\n",
       "      <td>₹630</td>\n",
       "    </tr>\n",
       "    <tr>\n",
       "      <th>99</th>\n",
       "      <td>ESSENCE</td>\n",
       "      <td>JFWBENNY KNIT SLIP ON Sneakers For Men</td>\n",
       "      <td>50% off</td>\n",
       "      <td>₹499</td>\n",
       "    </tr>\n",
       "  </tbody>\n",
       "</table>\n",
       "<p>100 rows × 4 columns</p>\n",
       "</div>"
      ],
      "text/plain": [
       "         Brand                                        Discription Discount %  \\\n",
       "0        Echor  Mens Walking Running Shoes - Lightweight Breat...    60% off   \n",
       "1       Chevit  Combo Pack of 4 Casual Sneakers With Sneakers ...    76% off   \n",
       "2     Longwalk                         Men Boxer Sneakers For Men    55% off   \n",
       "3       Chevit  Super Stylish & Trendy Combo Pack of 02 Pairs ...    62% off   \n",
       "4     ASTEROID  Original Luxury Branded Fashionable Men's Casu...    75% off   \n",
       "..         ...                                                ...        ...   \n",
       "95      Chevit                   Casual Sneakers Sneakers For Men    76% off   \n",
       "96  D-SNEAKERZ                      Puma Kor IDP Sneakers For Men    65% off   \n",
       "97      Chevit                            Raptor Sneakers For Men    52% off   \n",
       "98       SPARX  Modern & Trendy Collection Combo Pack of 02 Sh...    15% off   \n",
       "99     ESSENCE             JFWBENNY KNIT SLIP ON Sneakers For Men    50% off   \n",
       "\n",
       "   Price  \n",
       "0   ₹399  \n",
       "1   ₹474  \n",
       "2   ₹221  \n",
       "3   ₹599  \n",
       "4   ₹499  \n",
       "..   ...  \n",
       "95  ₹474  \n",
       "96  ₹346  \n",
       "97  ₹473  \n",
       "98  ₹630  \n",
       "99  ₹499  \n",
       "\n",
       "[100 rows x 4 columns]"
      ]
     },
     "execution_count": 82,
     "metadata": {},
     "output_type": "execute_result"
    }
   ],
   "source": [
    "sneakers"
   ]
  },
  {
   "cell_type": "markdown",
   "metadata": {},
   "source": [
    "<h3>Q9: Go to the link - https://www.myntra.com/shoes  Set Price filter to “Rs. 6649 to Rs. 13099” , Color filter to “Black”, as shown in the below imag</h3>"
   ]
  },
  {
   "cell_type": "code",
   "execution_count": 174,
   "metadata": {},
   "outputs": [],
   "source": [
    "#connecting to the web driver\n",
    "driver = webdriver.Chrome(\"Chromedriver.exe\")"
   ]
  },
  {
   "cell_type": "code",
   "execution_count": 175,
   "metadata": {},
   "outputs": [],
   "source": [
    "#get the url\n",
    "url ='https://www.myntra.com/shoes'\n",
    "driver.get(url)"
   ]
  },
  {
   "cell_type": "code",
   "execution_count": 176,
   "metadata": {},
   "outputs": [],
   "source": [
    "#clicking price filter by coping full xpath\n",
    "price_filter = driver.find_element_by_xpath('/html/body/div[2]/div/div[1]/main/div[3]/div[1]/section/div/div[5]/ul/li[2]')\n",
    "price_filter.click()"
   ]
  },
  {
   "cell_type": "code",
   "execution_count": 177,
   "metadata": {},
   "outputs": [],
   "source": [
    "#clicking colour filter by coping full xpath\n",
    "colour_filter=driver.find_element_by_xpath('/html/body/div[2]/div/div[1]/main/div[3]/div[1]/section/div/div[6]/ul/li[1]/label')\n",
    "colour_filter.click()"
   ]
  },
  {
   "cell_type": "code",
   "execution_count": 178,
   "metadata": {},
   "outputs": [],
   "source": [
    "# fetching page urls\n",
    "\n",
    "All_pages_urls=[]\n",
    "Next_1stpage_links = driver.find_elements_by_xpath('//li[@class=\"pagination-active\"]/a')\n",
    "for i in Next_1stpage_links:\n",
    "    All_pages_urls.append(i.get_attribute('href'))\n",
    "    \n",
    "Next_page_links = driver.find_elements_by_xpath('//li[@class=\"pagination-number\"]/a')\n",
    "for i in Next_page_links:\n",
    "    All_pages_urls.append(i.get_attribute('href'))\n",
    "        "
   ]
  },
  {
   "cell_type": "code",
   "execution_count": 248,
   "metadata": {},
   "outputs": [],
   "source": [
    "# fetching laptop brand names\n",
    "BRAND=[]\n",
    "for link in All_pages_urls[0:2]:\n",
    "    driver.get(link)\n",
    "    try:\n",
    "        Shoe_brand_name = driver.find_elements_by_xpath('//h3[@class=\"product-brand\"]')\n",
    "        for name in Shoe_brand_name:\n",
    "            BRAND.append(name.text)\n",
    "    except:\n",
    "        BRAND.append(\"------\")\n",
    "        "
   ]
  },
  {
   "cell_type": "code",
   "execution_count": 240,
   "metadata": {},
   "outputs": [],
   "source": [
    "# fetching full description\n",
    "Desc=[]\n",
    "for link in All_pages_urls[0:2]:\n",
    "    driver.get(link)\n",
    "    try:\n",
    "        Shoe_Description = driver.find_elements_by_xpath('//h4[@class=\"product-product\"]')\n",
    "        for name in Shoe_Description:\n",
    "            Desc.append(name.text)\n",
    "    except:\n",
    "        Desc.append(\"------\")\n"
   ]
  },
  {
   "cell_type": "code",
   "execution_count": 243,
   "metadata": {},
   "outputs": [],
   "source": [
    "# fetching price\n",
    "PRICE=[]\n",
    "for link in All_pages_urls[0:2]:\n",
    "    driver.get(link)\n",
    "    try:\n",
    "        Price = driver.find_elements_by_xpath('//div[@class=\"product-price\"]/span[1]')\n",
    "        for name in Price:\n",
    "            PRICE.append(name.text)\n",
    "    except:\n",
    "        PRICE.append(\"------\")\n"
   ]
  },
  {
   "cell_type": "code",
   "execution_count": 250,
   "metadata": {},
   "outputs": [],
   "source": [
    "# Creating dataframe\n",
    "Myntra = pd.DataFrame({})\n",
    "Myntra[\"Brand\"]=BRAND\n",
    "Myntra[\"Description\"]=Desc\n",
    "Myntra[\"price\"]=PRICE"
   ]
  },
  {
   "cell_type": "code",
   "execution_count": 251,
   "metadata": {},
   "outputs": [
    {
     "data": {
      "text/html": [
       "<div>\n",
       "<style scoped>\n",
       "    .dataframe tbody tr th:only-of-type {\n",
       "        vertical-align: middle;\n",
       "    }\n",
       "\n",
       "    .dataframe tbody tr th {\n",
       "        vertical-align: top;\n",
       "    }\n",
       "\n",
       "    .dataframe thead th {\n",
       "        text-align: right;\n",
       "    }\n",
       "</style>\n",
       "<table border=\"1\" class=\"dataframe\">\n",
       "  <thead>\n",
       "    <tr style=\"text-align: right;\">\n",
       "      <th></th>\n",
       "      <th>Brand</th>\n",
       "      <th>Description</th>\n",
       "      <th>price</th>\n",
       "    </tr>\n",
       "  </thead>\n",
       "  <tbody>\n",
       "    <tr>\n",
       "      <th>0</th>\n",
       "      <td>ALDO</td>\n",
       "      <td>Men Sneakers</td>\n",
       "      <td>Rs. 9999</td>\n",
       "    </tr>\n",
       "    <tr>\n",
       "      <th>1</th>\n",
       "      <td>Nike</td>\n",
       "      <td>Men Air Zoom Structure Running</td>\n",
       "      <td>Rs. 10295</td>\n",
       "    </tr>\n",
       "    <tr>\n",
       "      <th>2</th>\n",
       "      <td>ALDO</td>\n",
       "      <td>Men Driving Shoes</td>\n",
       "      <td>Rs. 11999</td>\n",
       "    </tr>\n",
       "    <tr>\n",
       "      <th>3</th>\n",
       "      <td>Geox</td>\n",
       "      <td>Men Cell Fraction Fade Running</td>\n",
       "      <td>Rs. 6999</td>\n",
       "    </tr>\n",
       "    <tr>\n",
       "      <th>4</th>\n",
       "      <td>Puma</td>\n",
       "      <td>Mesh Hybrid Fuego Running</td>\n",
       "      <td>Rs. 6999</td>\n",
       "    </tr>\n",
       "    <tr>\n",
       "      <th>...</th>\n",
       "      <td>...</td>\n",
       "      <td>...</td>\n",
       "      <td>...</td>\n",
       "    </tr>\n",
       "    <tr>\n",
       "      <th>95</th>\n",
       "      <td>ALDO</td>\n",
       "      <td>Textured Slim Heeled Sandals</td>\n",
       "      <td>Rs. 10999</td>\n",
       "    </tr>\n",
       "    <tr>\n",
       "      <th>96</th>\n",
       "      <td>Geox</td>\n",
       "      <td>Men Leather Driving Shoes</td>\n",
       "      <td>Rs. 9999</td>\n",
       "    </tr>\n",
       "    <tr>\n",
       "      <th>97</th>\n",
       "      <td>Geox</td>\n",
       "      <td>Men Solid Sneakers</td>\n",
       "      <td>Rs. 11999</td>\n",
       "    </tr>\n",
       "    <tr>\n",
       "      <th>98</th>\n",
       "      <td>Geox</td>\n",
       "      <td>Men Leather Formal Derbys</td>\n",
       "      <td>Rs. 8094Rs. 13490</td>\n",
       "    </tr>\n",
       "    <tr>\n",
       "      <th>99</th>\n",
       "      <td>Ruosh</td>\n",
       "      <td>Men Solid Leather Formal Oxfords</td>\n",
       "      <td>Rs. 11490</td>\n",
       "    </tr>\n",
       "  </tbody>\n",
       "</table>\n",
       "<p>100 rows × 3 columns</p>\n",
       "</div>"
      ],
      "text/plain": [
       "    Brand                       Description              price\n",
       "0    ALDO                      Men Sneakers           Rs. 9999\n",
       "1    Nike    Men Air Zoom Structure Running          Rs. 10295\n",
       "2    ALDO                 Men Driving Shoes          Rs. 11999\n",
       "3    Geox    Men Cell Fraction Fade Running           Rs. 6999\n",
       "4    Puma         Mesh Hybrid Fuego Running           Rs. 6999\n",
       "..    ...                               ...                ...\n",
       "95   ALDO      Textured Slim Heeled Sandals          Rs. 10999\n",
       "96   Geox         Men Leather Driving Shoes           Rs. 9999\n",
       "97   Geox                Men Solid Sneakers          Rs. 11999\n",
       "98   Geox         Men Leather Formal Derbys  Rs. 8094Rs. 13490\n",
       "99  Ruosh  Men Solid Leather Formal Oxfords          Rs. 11490\n",
       "\n",
       "[100 rows x 3 columns]"
      ]
     },
     "execution_count": 251,
     "metadata": {},
     "output_type": "execute_result"
    }
   ],
   "source": [
    "Myntra"
   ]
  },
  {
   "cell_type": "markdown",
   "metadata": {},
   "source": [
    "<h3>Q10:  Go to webpage https://www.amazon.in/    Enter “Laptop” in the search field and then click the search icon.   Then set CPU Type filter to “Intel Core i7” and “Intel Core i9” as shown in the below image: </h3>"
   ]
  },
  {
   "cell_type": "code",
   "execution_count": 4,
   "metadata": {},
   "outputs": [],
   "source": [
    "#connecting to the web driver\n",
    "driver = webdriver.Chrome(\"Chromedriver.exe\")"
   ]
  },
  {
   "cell_type": "code",
   "execution_count": 7,
   "metadata": {},
   "outputs": [],
   "source": [
    "#get the url\n",
    "url = 'https://www.amazon.in/'\n",
    "driver.get(url)"
   ]
  },
  {
   "cell_type": "code",
   "execution_count": 8,
   "metadata": {},
   "outputs": [],
   "source": [
    "# sending input 'Laptop' in search bar\n",
    "search_space = driver.find_element_by_xpath('//*[@id=\"twotabsearchtextbox\"]')\n",
    "search_space.send_keys('Laptop')"
   ]
  },
  {
   "cell_type": "code",
   "execution_count": 11,
   "metadata": {},
   "outputs": [],
   "source": [
    "# clicking on search button\n",
    "search_button= driver.find_element_by_xpath('//*[@id=\"nav-search-submit-button\"]')\n",
    "search_button.click()"
   ]
  },
  {
   "cell_type": "code",
   "execution_count": 12,
   "metadata": {},
   "outputs": [],
   "source": [
    "# click on intel core 7 filter check box\n",
    "Intel_i7_filter = driver.find_element_by_xpath('//*[@id=\"p_n_feature_thirteen_browse-bin/12598163031\"]/span/a/div/label/i')\n",
    "Intel_i7_filter.click()"
   ]
  },
  {
   "cell_type": "code",
   "execution_count": 13,
   "metadata": {},
   "outputs": [],
   "source": [
    "# click on intel core 9 filter check box\n",
    "Intel_i9_filter = driver.find_element_by_xpath('//*[@id=\"p_n_feature_thirteen_browse-bin/16757432031\"]/span/a/div/label/i')\n",
    "Intel_i9_filter.click()"
   ]
  },
  {
   "cell_type": "code",
   "execution_count": 105,
   "metadata": {},
   "outputs": [],
   "source": [
    "# fetching laptop names\n",
    "laptop=[]\n",
    "laptop_title=driver.find_elements_by_xpath('//span[@class=\"a-size-medium a-color-base a-text-normal\"]')\n",
    "for i in laptop_title:\n",
    "    laptop.append(i.text)\n",
    "    \n",
    "# fetching price    \n",
    "PRICE=[]\n",
    "Price =driver.find_elements_by_xpath('//span[@class=\"a-price-whole\"]')\n",
    "for i in Price:\n",
    "    PRICE.append(i.text)    \n",
    "    \n",
    "# fetching rating    \n",
    "RATING=[]\n",
    "Rating = driver.find_elements_by_class_name(\"a-icon-alt\")\n",
    "for i in Rating:\n",
    "    RATING.append(i.get_attribute('textContent'))\n",
    "    "
   ]
  },
  {
   "cell_type": "code",
   "execution_count": 107,
   "metadata": {},
   "outputs": [
    {
     "data": {
      "text/html": [
       "<div>\n",
       "<style scoped>\n",
       "    .dataframe tbody tr th:only-of-type {\n",
       "        vertical-align: middle;\n",
       "    }\n",
       "\n",
       "    .dataframe tbody tr th {\n",
       "        vertical-align: top;\n",
       "    }\n",
       "\n",
       "    .dataframe thead th {\n",
       "        text-align: right;\n",
       "    }\n",
       "</style>\n",
       "<table border=\"1\" class=\"dataframe\">\n",
       "  <thead>\n",
       "    <tr style=\"text-align: right;\">\n",
       "      <th></th>\n",
       "      <th>Brand</th>\n",
       "      <th>Rating</th>\n",
       "      <th>price</th>\n",
       "    </tr>\n",
       "  </thead>\n",
       "  <tbody>\n",
       "    <tr>\n",
       "      <th>0</th>\n",
       "      <td>ASUS TUF Dash F15 (2021), 15.6\" (39.62 cms) FH...</td>\n",
       "      <td>4.5 out of 5 stars</td>\n",
       "      <td>1,12,990</td>\n",
       "    </tr>\n",
       "    <tr>\n",
       "      <th>1</th>\n",
       "      <td>HP Envy 11th Gen Core i7 Processor 13.3-inch (...</td>\n",
       "      <td>4.1 out of 5 stars</td>\n",
       "      <td>1,23,800</td>\n",
       "    </tr>\n",
       "    <tr>\n",
       "      <th>2</th>\n",
       "      <td>Lenovo IdeaPad S540 11th Gen Intel Core i7 13....</td>\n",
       "      <td>4.3 out of 5 stars</td>\n",
       "      <td>77,990</td>\n",
       "    </tr>\n",
       "    <tr>\n",
       "      <th>3</th>\n",
       "      <td>Mi Notebook Horizon Edition 14 Intel Core i7-1...</td>\n",
       "      <td>4.2 out of 5 stars</td>\n",
       "      <td>57,490</td>\n",
       "    </tr>\n",
       "    <tr>\n",
       "      <th>4</th>\n",
       "      <td>ASUS TUF Dash F15 (2021), 15.6\" (39.62 cms) FH...</td>\n",
       "      <td>4.5 out of 5 stars</td>\n",
       "      <td>1,12,990</td>\n",
       "    </tr>\n",
       "    <tr>\n",
       "      <th>5</th>\n",
       "      <td>ASUS VivoBook S S14 Intel Core i7-1165G7 11th ...</td>\n",
       "      <td>4.3 out of 5 stars</td>\n",
       "      <td>80,480</td>\n",
       "    </tr>\n",
       "    <tr>\n",
       "      <th>6</th>\n",
       "      <td>Lenovo IdeaPad Gaming 3 Intel Core i7 10th Gen...</td>\n",
       "      <td>4.4 out of 5 stars</td>\n",
       "      <td>73,990</td>\n",
       "    </tr>\n",
       "    <tr>\n",
       "      <th>7</th>\n",
       "      <td>Lenovo Yoga 7 11th Gen Intel Core i7-1165G7 14...</td>\n",
       "      <td>4.4 out of 5 stars</td>\n",
       "      <td>1,19,499</td>\n",
       "    </tr>\n",
       "    <tr>\n",
       "      <th>8</th>\n",
       "      <td>ASUS ZenBook 13 OLED (2021) Intel Core i7-1165...</td>\n",
       "      <td>4.0 out of 5 stars</td>\n",
       "      <td>1,01,910</td>\n",
       "    </tr>\n",
       "    <tr>\n",
       "      <th>9</th>\n",
       "      <td>(Renewed) Hp Intel 4th Gen Core i7 15.6-inch (...</td>\n",
       "      <td>3.7 out of 5 stars</td>\n",
       "      <td>52,999</td>\n",
       "    </tr>\n",
       "  </tbody>\n",
       "</table>\n",
       "</div>"
      ],
      "text/plain": [
       "                                               Brand              Rating  \\\n",
       "0  ASUS TUF Dash F15 (2021), 15.6\" (39.62 cms) FH...  4.5 out of 5 stars   \n",
       "1  HP Envy 11th Gen Core i7 Processor 13.3-inch (...  4.1 out of 5 stars   \n",
       "2  Lenovo IdeaPad S540 11th Gen Intel Core i7 13....  4.3 out of 5 stars   \n",
       "3  Mi Notebook Horizon Edition 14 Intel Core i7-1...  4.2 out of 5 stars   \n",
       "4  ASUS TUF Dash F15 (2021), 15.6\" (39.62 cms) FH...  4.5 out of 5 stars   \n",
       "5  ASUS VivoBook S S14 Intel Core i7-1165G7 11th ...  4.3 out of 5 stars   \n",
       "6  Lenovo IdeaPad Gaming 3 Intel Core i7 10th Gen...  4.4 out of 5 stars   \n",
       "7  Lenovo Yoga 7 11th Gen Intel Core i7-1165G7 14...  4.4 out of 5 stars   \n",
       "8  ASUS ZenBook 13 OLED (2021) Intel Core i7-1165...  4.0 out of 5 stars   \n",
       "9  (Renewed) Hp Intel 4th Gen Core i7 15.6-inch (...  3.7 out of 5 stars   \n",
       "\n",
       "      price  \n",
       "0  1,12,990  \n",
       "1  1,23,800  \n",
       "2    77,990  \n",
       "3    57,490  \n",
       "4  1,12,990  \n",
       "5    80,480  \n",
       "6    73,990  \n",
       "7  1,19,499  \n",
       "8  1,01,910  \n",
       "9    52,999  "
      ]
     },
     "execution_count": 107,
     "metadata": {},
     "output_type": "execute_result"
    }
   ],
   "source": [
    "# Creating dataframe\n",
    "Laptop = pd.DataFrame({})\n",
    "Laptop[\"Brand\"]=laptop[0:10]\n",
    "Laptop[\"Rating\"]=RATING[0:10]\n",
    "Laptop[\"price\"]=PRICE[0:10]\n",
    "Laptop"
   ]
  },
  {
   "cell_type": "code",
   "execution_count": null,
   "metadata": {},
   "outputs": [],
   "source": []
  }
 ],
 "metadata": {
  "kernelspec": {
   "display_name": "Python 3",
   "language": "python",
   "name": "python3"
  },
  "language_info": {
   "codemirror_mode": {
    "name": "ipython",
    "version": 3
   },
   "file_extension": ".py",
   "mimetype": "text/x-python",
   "name": "python",
   "nbconvert_exporter": "python",
   "pygments_lexer": "ipython3",
   "version": "3.8.5"
  }
 },
 "nbformat": 4,
 "nbformat_minor": 4
}

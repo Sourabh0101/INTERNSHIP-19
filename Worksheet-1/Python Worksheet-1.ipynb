{
 "cells": [
  {
   "cell_type": "markdown",
   "metadata": {},
   "source": [
    "#                         Python - Worksheet 1"
   ]
  },
  {
   "cell_type": "markdown",
   "metadata": {},
   "source": [
    "### Q1 to Q8 have only one correct answer. Choose the correct option to answer your question."
   ]
  },
  {
   "cell_type": "markdown",
   "metadata": {},
   "source": [
    "<h4>1. Which of the following operators is used to calculate remainder in a division?</h4>\n",
    "Ans. %\n",
    "<h4>2. In python 2//3 is equal to?</h4>\n",
    "Ans. 0\n",
    "<h4>3.  In python, 6<<2 is equal to? </h4>\n",
    "Ans. 24\n",
    "<h4>4. In python, 6&2 will give which of the following as output?</h4>\n",
    "Ans. 2 \n",
    "<h4>5.In python, 6|2 will give which of the following as output</h4>\n",
    "Ans. 6\n",
    "<h4>6.What does the finally keyword denotes in python?</h4>\n",
    "Ans.(C) the finally block will be executed no matter if the try block raises an error or not. \n",
    "<h4>7. What does raise keyword is used for in python?</h4>\n",
    "Ans.(A) It is used to raise an exception\n",
    "<h4>8. Which of the following is a common use case of yield keyword in python?</h4>\n",
    "Ans.(C) in defining a generator\n",
    "\n"
   ]
  },
  {
   "cell_type": "markdown",
   "metadata": {},
   "source": [
    "### Q9 and Q10 have multiple correct answers. Choose all the correct options to answer your question"
   ]
  },
  {
   "cell_type": "markdown",
   "metadata": {},
   "source": [
    "<h4>9.Which of the following are the valid variable names?</h4>\n",
    "Ans. A) _abc C) abc2\n",
    "     \n",
    "<h4>10. Which of the following are the keywords in python?</h4>\n",
    "Ans. A) yield B) raise "
   ]
  },
  {
   "cell_type": "markdown",
   "metadata": {},
   "source": [
    "### Q11 to Q15 are programming questions. Answer them in Jupyter Notebook."
   ]
  },
  {
   "cell_type": "markdown",
   "metadata": {},
   "source": [
    "#### 11. Write a python program to find the factorial of a number"
   ]
  },
  {
   "cell_type": "code",
   "execution_count": 2,
   "metadata": {},
   "outputs": [
    {
     "name": "stdout",
     "output_type": "stream",
     "text": [
      "Enter a number: 5\n",
      "The factorial of 5 is 120\n"
     ]
    }
   ],
   "source": [
    "num = int(input('Enter a number: '))\n",
    "def fact(num):\n",
    "    \n",
    "        if num ==0 or num ==1:\n",
    "            return 1\n",
    "        else:\n",
    "            return num *fact(num-1)\n",
    "        \n",
    "if num<0 :\n",
    "    print(\" number is negative . factorial not possible\")\n",
    "elif num==0:\n",
    "    print(\"The factorial is \",1)\n",
    "else:       \n",
    "     print(f'The factorial of {num} is {fact(num)}')"
   ]
  },
  {
   "cell_type": "markdown",
   "metadata": {},
   "source": [
    "#### 12. Write a python program to find whether a number is prime or composite."
   ]
  },
  {
   "cell_type": "code",
   "execution_count": 3,
   "metadata": {},
   "outputs": [
    {
     "name": "stdout",
     "output_type": "stream",
     "text": [
      "Enter a number: 9\n",
      "Number is Composite\n",
      "3 times 3 is 9\n"
     ]
    }
   ],
   "source": [
    "num = int(input('Enter a number: '))\n",
    "if num>1:\n",
    "    for i in range(2,num):\n",
    "        if num%i==0:\n",
    "            print(\"Number is Composite\")\n",
    "            print(i,\"times\",num//i,\"is\",num)\n",
    "            break\n",
    "    else:\n",
    "        print(\"Number is Prime \")\n",
    "else:\n",
    "    print(\"Number is Composite\")"
   ]
  },
  {
   "cell_type": "markdown",
   "metadata": {},
   "source": [
    "#### 13. Write a python program to check whether a given string is palindrome or not"
   ]
  },
  {
   "cell_type": "code",
   "execution_count": 4,
   "metadata": {},
   "outputs": [
    {
     "name": "stdout",
     "output_type": "stream",
     "text": [
      "Enter string:- jalaj\n",
      "String is palindrom\n"
     ]
    }
   ],
   "source": [
    "string = input('Enter string:- ')\n",
    "s=string\n",
    "if s == string[::-1]:\n",
    "    print(\"String is palindrom\")\n",
    "else:\n",
    "    print(\"String in not palindrom\")"
   ]
  },
  {
   "cell_type": "markdown",
   "metadata": {},
   "source": [
    "#### 14. Write a Python program to get the third side of right-angled triangle from two given sides. "
   ]
  },
  {
   "cell_type": "code",
   "execution_count": 5,
   "metadata": {},
   "outputs": [
    {
     "name": "stdout",
     "output_type": "stream",
     "text": [
      "Enter Perpendicular 4\n",
      "Enter Base 2\n",
      "Hypotenuse is 4.47 \n"
     ]
    }
   ],
   "source": [
    "import math\n",
    "perp = int(input('Enter Perpendicular '))\n",
    "base = int(input('Enter Base '))\n",
    "print(f'Hypotenuse is {round(math.sqrt((perp**2)+(base**2)),2)} ')"
   ]
  },
  {
   "cell_type": "markdown",
   "metadata": {},
   "source": [
    "#### 15. Write a python program to print the frequency of each of the characters present in a given string."
   ]
  },
  {
   "cell_type": "code",
   "execution_count": 6,
   "metadata": {},
   "outputs": [
    {
     "name": "stdout",
     "output_type": "stream",
     "text": [
      "Enter a character: saurabh\n",
      " The frequencies of characters in the string are {'s': 1, 'a': 2, 'u': 1, 'r': 1, 'b': 1, 'h': 1}\n"
     ]
    }
   ],
   "source": [
    "char = input('Enter a character: ')\n",
    "freq={}\n",
    "for i in char:\n",
    "    if i in freq.keys():\n",
    "        freq[i]=freq[i]+1\n",
    "    else :\n",
    "        freq[i]=1\n",
    "print(\" The frequencies of characters in the string are\", freq)"
   ]
  },
  {
   "cell_type": "code",
   "execution_count": null,
   "metadata": {},
   "outputs": [],
   "source": []
  },
  {
   "cell_type": "code",
   "execution_count": null,
   "metadata": {},
   "outputs": [],
   "source": []
  }
 ],
 "metadata": {
  "kernelspec": {
   "display_name": "Python 3",
   "language": "python",
   "name": "python3"
  },
  "language_info": {
   "codemirror_mode": {
    "name": "ipython",
    "version": 3
   },
   "file_extension": ".py",
   "mimetype": "text/x-python",
   "name": "python",
   "nbconvert_exporter": "python",
   "pygments_lexer": "ipython3",
   "version": "3.8.5"
  }
 },
 "nbformat": 4,
 "nbformat_minor": 4
}

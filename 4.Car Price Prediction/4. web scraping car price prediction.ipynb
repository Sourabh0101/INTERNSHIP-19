{
 "cells": [
  {
   "cell_type": "code",
   "execution_count": 1,
   "metadata": {},
   "outputs": [],
   "source": [
    "import pandas as pd\n",
    "import numpy as np\n",
    "import warnings\n",
    "import requests\n",
    "import time\n",
    "import selenium\n",
    "from selenium import webdriver\n",
    "warnings.simplefilter(\"ignore\")\n",
    "warnings.filterwarnings(\"ignore\")\n",
    "from selenium.common.exceptions import NoSuchElementException, ElementNotInteractableException,StaleElementReferenceException, ElementClickInterceptedException"
   ]
  },
  {
   "cell_type": "code",
   "execution_count": 2,
   "metadata": {},
   "outputs": [],
   "source": [
    "url = \"https://droom.in/cars/used\"\n",
    "page = requests.get(url)\n",
    "driver = webdriver.Chrome(r'C:\\Users\\m\\Desktop\\selenium web scrpping\\chromedriver.exe')\n",
    "driver.get(url)\n",
    "driver.maximize_window()"
   ]
  },
  {
   "cell_type": "code",
   "execution_count": 3,
   "metadata": {
    "scrolled": true
   },
   "outputs": [],
   "source": [
    "for i in range(0,420):\n",
    "        print(i+1,end=\",\")\n",
    "        lis= driver.find_elements_by_xpath('//*[@id=\"root\"]/div/div[2]/div/div[3]/div/div[3]/button')\n",
    "        lis[0].click()\n",
    "        time.sleep(10)"
   ]
  },
  {
   "cell_type": "code",
   "execution_count": 4,
   "metadata": {},
   "outputs": [],
   "source": [
    "lis=[]\n",
    "car_name=[]\n",
    "for i in range(0,10000) :\n",
    "    print(i+1,end=\",\")\n",
    "    try:\n",
    "        car_name.append(driver.find_elements_by_xpath('//h2[@class=\"MuiTypography-root jss211 MuiTypography-body1\"]/a')[i].text)\n",
    "        lis.append((driver.find_elements_by_xpath('//div[@class=\"jss210 card-body\"]')[i].text).replace(\" \",\"\").replace(\"\\n\",\" \").split(\" \"))\n",
    "    except NoSuchElementException:\n",
    "        lis.append('-')"
   ]
  },
  {
   "cell_type": "code",
   "execution_count": 5,
   "metadata": {},
   "outputs": [],
   "source": [
    "Year=[]\n",
    "Price=[]\n",
    "KMs_driven=[]\n",
    "place=[]\n",
    "fuel_type=[]\n",
    "Transmission_Type=[]\n",
    "owner=[]\n",
    "\n",
    "for i in lis:\n",
    "    Year.append(i[0][-4:])\n",
    "    Price.append(i[2])\n",
    "    KMs_driven.append(i[3])\n",
    "    fuel_type.append(i[5])\n",
    "    Transmission_Type.append(i[6])"
   ]
  },
  {
   "cell_type": "code",
   "execution_count": 6,
   "metadata": {},
   "outputs": [],
   "source": [
    "df = pd.DataFrame({})\n",
    "df['Used Car Model']=car_name\n",
    "df['Year of Manufacture'] = Year\n",
    "df['Kilometers Driven'] = KMs_driven\n",
    "df['Fuel Type'] = fuel_type\n",
    "df['Place']=place\n",
    "df['Transmission Type'] =Transmission_Type     \n",
    "df['Used Car Price'] = Price"
   ]
  },
  {
   "cell_type": "code",
   "execution_count": 7,
   "metadata": {},
   "outputs": [],
   "source": [
    "df.to_csv(\"cars_data.csv\")"
   ]
  }
 ],
 "metadata": {
  "kernelspec": {
   "display_name": "Python 3",
   "language": "python",
   "name": "python3"
  },
  "language_info": {
   "codemirror_mode": {
    "name": "ipython",
    "version": 3
   },
   "file_extension": ".py",
   "mimetype": "text/x-python",
   "name": "python",
   "nbconvert_exporter": "python",
   "pygments_lexer": "ipython3",
   "version": "3.8.5"
  }
 },
 "nbformat": 4,
 "nbformat_minor": 4
}
